{
 "cells": [
  {
   "cell_type": "markdown",
   "metadata": {},
   "source": [
    "# Aspirin - Omega3 - cancer graph\n",
    "## NCATS Hackathon 2019-09-17\n",
    "\n"
   ]
  },
  {
   "attachments": {},
   "cell_type": "markdown",
   "metadata": {},
   "source": [
    "How does aspirin interact with omega-3 fatty acids to reduce the risk of cancer?\n",
    "\n",
    "<img src=\"img/AspirinFattyAcidsCancer.png\" width=\"1200\">\n",
    "\n",
    "**IMPORTANT**: Current BTE limitation is that any single query is limited to 100 results per query, so it may not entirely show all results from each source"
   ]
  },
  {
   "cell_type": "markdown",
   "metadata": {},
   "source": [
    "### Initiating the package"
   ]
  },
  {
   "cell_type": "code",
   "execution_count": 1,
   "metadata": {},
   "outputs": [],
   "source": [
    "# import the query module\n",
    "from biothings_explorer.user_query_dispatcher import SingleEdgeQueryDispatcher\n",
    "# import the hint module (suggest hits based on your input)\n",
    "from biothings_explorer.hint import Hint\n",
    "# import the registry module\n",
    "from biothings_explorer.registry import Registry\n",
    "reg = Registry()\n",
    "ht = Hint()\n",
    "# initialize the connect module\n",
    "from biothings_explorer.user_query_dispatcher import Connect"
   ]
  },
  {
   "cell_type": "markdown",
   "metadata": {},
   "source": [
    "## Find the fatty acid nodes"
   ]
  },
  {
   "cell_type": "code",
   "execution_count": 57,
   "metadata": {},
   "outputs": [],
   "source": [
    "fa_commonnames = [\n",
    "    \"Alpha-linolenic acid\",\n",
    "    \"Eicosapentaenoic acid\",\n",
    "    \"Docosahexaenoic acid\",\n",
    "    \"Linoleic acid\",\n",
    "    \"Arachidonic acid\"\n",
    "]\n"
   ]
  },
  {
   "cell_type": "code",
   "execution_count": 58,
   "metadata": {},
   "outputs": [
    {
     "data": {
      "text/plain": [
       "[{'chembl': 'CHEMBL8739',\n",
       "  'drugbank': 'DB00132',\n",
       "  'name': 'LINOLENIC ACID',\n",
       "  'pubchem': 5280934,\n",
       "  'display': 'chembl(CHEMBL8739) drugbank(DB00132) name(LINOLENIC ACID) pubchem(5280934) ',\n",
       "  'type': 'ChemicalSubstance',\n",
       "  'primary': {'identifier': 'chembl',\n",
       "   'cls': 'ChemicalSubstance',\n",
       "   'value': 'CHEMBL8739'}},\n",
       " {'pubchem': 6437059,\n",
       "  'display': 'pubchem(6437059) ',\n",
       "  'type': 'ChemicalSubstance',\n",
       "  'primary': {'identifier': 'pubchem',\n",
       "   'cls': 'ChemicalSubstance',\n",
       "   'value': 6437059}},\n",
       " {'drugbank': 'DB05297',\n",
       "  'pubchem': 6918473,\n",
       "  'display': 'drugbank(DB05297) pubchem(6918473) ',\n",
       "  'type': 'ChemicalSubstance',\n",
       "  'primary': {'identifier': 'drugbank',\n",
       "   'cls': 'ChemicalSubstance',\n",
       "   'value': 'DB05297'}},\n",
       " {'chembl': 'CHEMBL267476',\n",
       "  'drugbank': 'DB14104',\n",
       "  'name': 'LINOLEIC ACID',\n",
       "  'pubchem': 5280450,\n",
       "  'display': 'chembl(CHEMBL267476) drugbank(DB14104) name(LINOLEIC ACID) pubchem(5280450) ',\n",
       "  'type': 'ChemicalSubstance',\n",
       "  'primary': {'identifier': 'chembl',\n",
       "   'cls': 'ChemicalSubstance',\n",
       "   'value': 'CHEMBL267476'}},\n",
       " {'chembl': 'CHEMBL15594',\n",
       "  'drugbank': 'DB04557',\n",
       "  'name': 'ARACHIDONIC ACID',\n",
       "  'pubchem': 444899,\n",
       "  'display': 'chembl(CHEMBL15594) drugbank(DB04557) name(ARACHIDONIC ACID) pubchem(444899) ',\n",
       "  'type': 'ChemicalSubstance',\n",
       "  'primary': {'identifier': 'chembl',\n",
       "   'cls': 'ChemicalSubstance',\n",
       "   'value': 'CHEMBL15594'}}]"
      ]
     },
     "execution_count": 58,
     "metadata": {},
     "output_type": "execute_result"
    }
   ],
   "source": [
    "fa_nodes = []\n",
    "for name in fa_commonnames:\n",
    "    # use the hint the module to let BioThings Explorer suggest the inputs for you\n",
    "    a = ht.query(name)\n",
    "    # the output of the hint module is grouped by semantic types\n",
    "    fa_nodes.append(a['ChemicalSubstance'][0])\n",
    "    \n",
    "fa_nodes"
   ]
  },
  {
   "cell_type": "markdown",
   "metadata": {},
   "source": [
    "### what connected nodes are shared in common with these FAs?"
   ]
  },
  {
   "cell_type": "code",
   "execution_count": 59,
   "metadata": {
    "scrolled": true
   },
   "outputs": [
    {
     "name": "stdout",
     "output_type": "stream",
     "text": [
      "Passing on this record: {'pubchem': 6437059, 'display': 'pubchem(6437059) ', 'type': 'ChemicalSubstance', 'primary': {'identifier': 'pubchem', 'cls': 'ChemicalSubstance', 'value': 6437059}}\n"
     ]
    },
    {
     "data": {
      "text/plain": [
       "{'CHEMBL8739': ['CHEMBL8739'],\n",
       " '3992': ['CHEMBL8739'],\n",
       " '9415': ['CHEMBL8739'],\n",
       " '2864': ['CHEMBL8739', 'CHEMBL267476'],\n",
       " '338557': ['CHEMBL8739', 'CHEMBL267476'],\n",
       " '6546': ['CHEMBL8739'],\n",
       " '6785': ['CHEMBL8739'],\n",
       " '7442': ['CHEMBL8739'],\n",
       " '2170': ['CHEMBL8739', 'CHEMBL267476'],\n",
       " '1588': ['CHEMBL8739', 'CHEMBL267476'],\n",
       " '5743': ['CHEMBL8739', 'CHEMBL267476'],\n",
       " '5742': ['CHEMBL8739', 'CHEMBL267476', 'CHEMBL15594'],\n",
       " '5468': ['CHEMBL8739', 'CHEMBL267476'],\n",
       " '5465': ['CHEMBL8739', 'CHEMBL267476', 'CHEMBL15594'],\n",
       " '5467': ['CHEMBL8739', 'CHEMBL267476'],\n",
       " '2152': ['CHEMBL8739', 'CHEMBL267476'],\n",
       " '9971': ['CHEMBL8739', 'CHEMBL15594'],\n",
       " '6256': ['CHEMBL8739', 'CHEMBL15594'],\n",
       " 'DB05297': ['DB05297'],\n",
       " '596': ['DB05297'],\n",
       " 'CHEMBL267476': ['CHEMBL267476'],\n",
       " '3172': ['CHEMBL267476'],\n",
       " '3745': ['CHEMBL267476'],\n",
       " '79054': ['CHEMBL267476'],\n",
       " 'LOX1.1': ['CHEMBL267476'],\n",
       " '134': ['CHEMBL267476'],\n",
       " '2167': ['CHEMBL267476'],\n",
       " 'CHEMBL15594': ['CHEMBL15594'],\n",
       " '338567': ['CHEMBL15594'],\n",
       " '50801': ['CHEMBL15594'],\n",
       " '3761': ['CHEMBL15594'],\n",
       " '5590': ['CHEMBL15594'],\n",
       " '7225': ['CHEMBL15594'],\n",
       " '7226': ['CHEMBL15594'],\n",
       " '1559': ['CHEMBL15594']}"
      ]
     },
     "execution_count": 59,
     "metadata": {},
     "output_type": "execute_result"
    }
   ],
   "source": [
    "# first test genes\n",
    "\n",
    "all_nodes={}\n",
    "for node in fa_nodes:\n",
    "    try:\n",
    "        seqd = SingleEdgeQueryDispatcher(input_obj=node,\n",
    "                                 output_cls='Gene',\n",
    "                                 registry=reg)\n",
    "        seqd.query()\n",
    "    except:\n",
    "        print(\"Passing on this record: \"+str(node))\n",
    "        continue\n",
    "    for x in seqd.show_all_nodes():\n",
    "        if x in all_nodes.keys():\n",
    "            all_nodes[x].append(node['primary']['value'])\n",
    "        else:\n",
    "            all_nodes[x] = [node['primary']['value']]\n",
    "all_nodes"
   ]
  },
  {
   "cell_type": "markdown",
   "metadata": {},
   "source": [
    "* `5465` is PPARA\n",
    "* `5742` is PTGS1"
   ]
  },
  {
   "cell_type": "markdown",
   "metadata": {},
   "source": [
    "#### What is the relationship between PPARA and those compounds?"
   ]
  },
  {
   "cell_type": "code",
   "execution_count": 76,
   "metadata": {},
   "outputs": [
    {
     "data": {
      "text/plain": [
       "{'chembl': 'CHEMBL8739',\n",
       " 'drugbank': 'DB00132',\n",
       " 'name': 'LINOLENIC ACID',\n",
       " 'pubchem': 5280934,\n",
       " 'display': 'chembl(CHEMBL8739) drugbank(DB00132) name(LINOLENIC ACID) pubchem(5280934) ',\n",
       " 'type': 'ChemicalSubstance',\n",
       " 'primary': {'identifier': 'chembl',\n",
       "  'cls': 'ChemicalSubstance',\n",
       "  'value': 'CHEMBL8739'}}"
      ]
     },
     "execution_count": 76,
     "metadata": {},
     "output_type": "execute_result"
    }
   ],
   "source": [
    "node = fa_nodes[0]\n",
    "seqd = SingleEdgeQueryDispatcher(input_obj=node,\n",
    "                                 output_cls='Gene',\n",
    "                                 registry=reg)\n",
    "seqd.query()\n",
    "seqd.display_edge_info('CHEMBL8739', '5465')\n",
    "node"
   ]
  },
  {
   "cell_type": "code",
   "execution_count": 78,
   "metadata": {},
   "outputs": [
    {
     "name": "stdout",
     "output_type": "stream",
     "text": [
      "NODE: CHEMBL8739\n",
      "{0: {'info': {'bts:name': ['Peroxisome proliferator-activated receptor alpha'], 'bts:symbol': ['PPARA'], '@type': 'Gene', '$input': 'bts:chembl', '$source': 'drugcentral'}, 'label': 'bts:target', 'source': 'drugcentral'}}\n",
      "NODE: CHEMBL267476\n",
      "{0: {'info': {'bts:name': ['Peroxisome proliferator-activated receptor alpha'], 'bts:symbol': ['PPARA'], '@type': 'Gene', '$input': 'bts:chembl', '$source': 'drugcentral'}, 'label': 'bts:target', 'source': 'drugcentral'}}\n",
      "NODE: CHEMBL15594\n",
      "{0: {'info': {'bts:name': ['Peroxisome proliferator-activated receptor alpha'], 'bts:symbol': ['PPARA'], 'bts:function': ['Zinc ion binding'], 'bts:pubmed': [10403814, 15491415], '@type': 'Gene', '$input': 'bts:drugbank', '$source': 'drugbank'}, 'label': 'bts:target', 'source': 'drugbank'}}\n"
     ]
    }
   ],
   "source": [
    "for node in fa_nodes:\n",
    "    try:\n",
    "        seqd = SingleEdgeQueryDispatcher(input_obj=node,\n",
    "                                 output_cls='Gene',\n",
    "                                 registry=reg)\n",
    "        seqd.query()\n",
    "        print('NODE: '+node['chembl'])\n",
    "        print(seqd.display_edge_info(node['chembl'], '5465'))\n",
    "    except:\n",
    "        continue\n"
   ]
  },
  {
   "cell_type": "code",
   "execution_count": null,
   "metadata": {},
   "outputs": [],
   "source": [
    "seqd.show_all_edges()"
   ]
  },
  {
   "cell_type": "code",
   "execution_count": 42,
   "metadata": {},
   "outputs": [
    {
     "name": "stdout",
     "output_type": "stream",
     "text": [
      "Passing on this record: {'pubchem': 6437059, 'display': 'pubchem(6437059) ', 'type': 'ChemicalSubstance', 'primary': {'identifier': 'pubchem', 'cls': 'ChemicalSubstance', 'value': 6437059}}\n"
     ]
    },
    {
     "data": {
      "text/plain": [
       "{}"
      ]
     },
     "execution_count": 42,
     "metadata": {},
     "output_type": "execute_result"
    }
   ],
   "source": [
    "# test compounds\n",
    "\n",
    "all_nodes={}\n",
    "for node in fa_nodes:\n",
    "    try:\n",
    "        seqd = SingleEdgeQueryDispatcher(input_obj=node,\n",
    "                                 output_cls='ChemicalSubstance',\n",
    "                                 registry=reg)\n",
    "        seqd.query()\n",
    "    except:\n",
    "        print(\"Passing on this record: \"+str(node))\n",
    "        continue\n",
    "    for x in seqd.show_all_nodes():\n",
    "        if x in all_nodes.keys():\n",
    "            all_nodes[x].append(node['primary']['value'])\n",
    "        else:\n",
    "            all_nodes[x] = [node['primary']['value']]\n",
    "all_nodes"
   ]
  },
  {
   "cell_type": "markdown",
   "metadata": {},
   "source": [
    "Nothing on compounds -- I think this is a BTE bug... (https://github.com/kevinxin90/bte_schema/issues/7)"
   ]
  },
  {
   "cell_type": "code",
   "execution_count": 47,
   "metadata": {},
   "outputs": [
    {
     "name": "stdout",
     "output_type": "stream",
     "text": [
      "Passing on this record: {'pubchem': 6437059, 'display': 'pubchem(6437059) ', 'type': 'ChemicalSubstance', 'primary': {'identifier': 'pubchem', 'cls': 'ChemicalSubstance', 'value': 6437059}}\n"
     ]
    },
    {
     "data": {
      "text/plain": [
       "{}"
      ]
     },
     "execution_count": 47,
     "metadata": {},
     "output_type": "execute_result"
    }
   ],
   "source": [
    "# test pathway\n",
    "\n",
    "all_nodes={}\n",
    "for node in fa_nodes:\n",
    "    try:\n",
    "        seqd = SingleEdgeQueryDispatcher(input_obj=node,\n",
    "                                 output_cls='Pathway',\n",
    "                                 registry=reg)\n",
    "        seqd.query()\n",
    "    except:\n",
    "        print(\"Passing on this record: \"+str(node))\n",
    "        continue\n",
    "    for x in seqd.show_all_nodes():\n",
    "        if x in all_nodes.keys():\n",
    "            all_nodes[x].append(node['primary']['value'])\n",
    "        else:\n",
    "            all_nodes[x] = [node['primary']['value']]\n",
    "all_nodes"
   ]
  },
  {
   "cell_type": "code",
   "execution_count": 67,
   "metadata": {},
   "outputs": [
    {
     "name": "stdout",
     "output_type": "stream",
     "text": [
      "Passing on this record: {'pubchem': 6437059, 'display': 'pubchem(6437059) ', 'type': 'ChemicalSubstance', 'primary': {'identifier': 'pubchem', 'cls': 'ChemicalSubstance', 'value': 6437059}}\n"
     ]
    },
    {
     "data": {
      "text/plain": [
       "{'CHEMBL8739': ['CHEMBL8739'],\n",
       " 'CHEMBL267476': ['CHEMBL267476'],\n",
       " 'CHEMBL15594': ['CHEMBL15594']}"
      ]
     },
     "execution_count": 67,
     "metadata": {},
     "output_type": "execute_result"
    }
   ],
   "source": [
    "# test disease\n",
    "\n",
    "all_nodes={}\n",
    "for node in fa_nodes:\n",
    "    try:\n",
    "        seqd = SingleEdgeQueryDispatcher(input_obj=node,\n",
    "                                 output_cls='DiseaseOrPhenotypicFeature',\n",
    "                                 registry=reg)\n",
    "        seqd.query()\n",
    "    except:\n",
    "        print(\"Passing on this record: \"+str(node))\n",
    "        continue\n",
    "    for x in seqd.show_all_nodes():\n",
    "        if x in all_nodes.keys():\n",
    "            all_nodes[x].append(node['primary']['value'])\n",
    "        else:\n",
    "            all_nodes[x] = [node['primary']['value']]\n",
    "all_nodes"
   ]
  },
  {
   "cell_type": "markdown",
   "metadata": {},
   "source": [
    "### What is link between PPARA and inflammation"
   ]
  },
  {
   "cell_type": "code",
   "execution_count": 55,
   "metadata": {},
   "outputs": [],
   "source": [
    "# search for inflammation\n",
    "a = ht.query(\"inflammatory response\")\n",
    "node_inflammation = a['BiologicalProcess'][0]\n",
    "\n",
    "# search for ppara\n",
    "a = ht.query(\"PPARA\")\n",
    "node_ppara = a['Gene'][0]"
   ]
  },
  {
   "cell_type": "code",
   "execution_count": 56,
   "metadata": {},
   "outputs": [
    {
     "name": "stdout",
     "output_type": "stream",
     "text": [
      "processing step 1 ...\n",
      "processing step 2 ...\n",
      "query completed\n",
      "Connction not found!\n"
     ]
    }
   ],
   "source": [
    "cc = Connect(input_obj=node_inflammation, output_obj=node_ppara, registry=reg)\n",
    "cc.connect()"
   ]
  },
  {
   "cell_type": "markdown",
   "metadata": {},
   "source": [
    "**Ask Kevin** Is this a bug?  Should we provide more info on what was tried here?"
   ]
  },
  {
   "cell_type": "code",
   "execution_count": null,
   "metadata": {},
   "outputs": [],
   "source": []
  }
 ],
 "metadata": {
  "kernelspec": {
   "display_name": "Python 3",
   "language": "python",
   "name": "python3"
  },
  "language_info": {
   "codemirror_mode": {
    "name": "ipython",
    "version": 3
   },
   "file_extension": ".py",
   "mimetype": "text/x-python",
   "name": "python",
   "nbconvert_exporter": "python",
   "pygments_lexer": "ipython3",
   "version": "3.6.8"
  }
 },
 "nbformat": 4,
 "nbformat_minor": 2
}
