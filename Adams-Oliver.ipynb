{
 "cells": [
  {
   "cell_type": "markdown",
   "metadata": {},
   "source": [
    "# Adams-Oliver graph\n",
    "## NCATS Hackathon 2019-09-15\n",
    "\n"
   ]
  },
  {
   "cell_type": "markdown",
   "metadata": {},
   "source": [
<<<<<<< 264b4cc82c31fa1a0ccd54d301ccd2319045c9b4
<<<<<<< e1cd5e577332ee62f9e7990c77cb1f09b3575962
=======
>>>>>>> more documentation, clean up
    "Trying to reproduce the edges in this graph: \n",
    "\n",
    "<img src=\"img/Adams-Oliver.png\" width=\"1200\">\n",
    "\n",
    "**IMPORTANT**: Current BTE limitation is that any single query is limited to 100 results per query, so it may not entirely show all results from each source"
   ]
  },
  {
   "cell_type": "markdown",
   "metadata": {},
   "source": [
<<<<<<< 264b4cc82c31fa1a0ccd54d301ccd2319045c9b4
=======
>>>>>>> inital AOS notebook
=======
>>>>>>> more documentation, clean up
    "### Initiating the package"
   ]
  },
  {
   "cell_type": "code",
<<<<<<< cb276f9e31b3b72c7e5c92b36d7154b6878ab9d4
<<<<<<< e1cd5e577332ee62f9e7990c77cb1f09b3575962
   "execution_count": 8,
=======
   "execution_count": 1,
>>>>>>> inital AOS notebook
=======
   "execution_count": 8,
>>>>>>> connect error
   "metadata": {},
   "outputs": [],
   "source": [
    "# import the query module\n",
    "from biothings_explorer.user_query_dispatcher import SingleEdgeQueryDispatcher\n",
    "# import the hint module (suggest hits based on your input)\n",
    "from biothings_explorer.hint import Hint\n",
    "# import the registry module\n",
    "from biothings_explorer.registry import Registry\n",
    "reg = Registry()\n",
<<<<<<< cb276f9e31b3b72c7e5c92b36d7154b6878ab9d4
<<<<<<< e1cd5e577332ee62f9e7990c77cb1f09b3575962
    "ht = Hint()\n",
    "# initialize the connect module\n",
    "from biothings_explorer.user_query_dispatcher import Connect"
=======
    "ht = Hint()"
>>>>>>> inital AOS notebook
=======
    "ht = Hint()\n",
    "# initialize the connect module\n",
    "from biothings_explorer.user_query_dispatcher import Connect"
>>>>>>> connect error
   ]
  },
  {
   "cell_type": "markdown",
   "metadata": {},
   "source": [
    "## Find disease node(s)"
   ]
  },
  {
   "cell_type": "code",
<<<<<<< 264b4cc82c31fa1a0ccd54d301ccd2319045c9b4
<<<<<<< e1cd5e577332ee62f9e7990c77cb1f09b3575962
   "execution_count": 48,
=======
   "execution_count": 5,
>>>>>>> inital AOS notebook
=======
   "execution_count": 48,
>>>>>>> more documentation, clean up
   "metadata": {},
   "outputs": [
    {
     "data": {
      "text/plain": [
       "[{'mondo': 'MONDO:0007034',\n",
       "  'doid': 'DOID:0060227',\n",
       "  'umls': 'C0265268',\n",
       "  'mesh': 'C538225',\n",
       "  'name': 'Adams-Oliver syndrome',\n",
       "  'display': 'mondo(MONDO:0007034) doid(DOID:0060227) umls(C0265268) mesh(C538225) name(Adams-Oliver syndrome) ',\n",
       "  'type': 'DiseaseOrPhenotypicFeature',\n",
       "  'primary': {'identifier': 'mondo',\n",
       "   'cls': 'DiseaseOrPhenotypicFeature',\n",
       "   'value': 'MONDO:0007034'}},\n",
       " {'mondo': 'MONDO:0024506',\n",
       "  'umls': 'C0265268',\n",
       "  'name': 'Adams-Oliver syndrome 1',\n",
       "  'display': 'mondo(MONDO:0024506) umls(C0265268) name(Adams-Oliver syndrome 1) ',\n",
       "  'type': 'DiseaseOrPhenotypicFeature',\n",
       "  'primary': {'identifier': 'mondo',\n",
       "   'cls': 'DiseaseOrPhenotypicFeature',\n",
       "   'value': 'MONDO:0024506'}},\n",
       " {'mondo': 'MONDO:0013635',\n",
       "  'umls': 'C3280182',\n",
       "  'name': 'Adams-Oliver syndrome 2',\n",
       "  'display': 'mondo(MONDO:0013635) umls(C3280182) name(Adams-Oliver syndrome 2) ',\n",
       "  'type': 'DiseaseOrPhenotypicFeature',\n",
       "  'primary': {'identifier': 'mondo',\n",
       "   'cls': 'DiseaseOrPhenotypicFeature',\n",
<<<<<<< 264b4cc82c31fa1a0ccd54d301ccd2319045c9b4
<<<<<<< e1cd5e577332ee62f9e7990c77cb1f09b3575962
       "   'value': 'MONDO:0013635'}}]"
      ]
     },
     "execution_count": 48,
=======
       "   'value': 'MONDO:0013635'}},\n",
       " {'mondo': 'MONDO:0014124',\n",
       "  'umls': 'C3809092',\n",
       "  'name': 'Adams-Oliver syndrome 4',\n",
       "  'display': 'mondo(MONDO:0014124) umls(C3809092) name(Adams-Oliver syndrome 4) ',\n",
       "  'type': 'DiseaseOrPhenotypicFeature',\n",
       "  'primary': {'identifier': 'mondo',\n",
       "   'cls': 'DiseaseOrPhenotypicFeature',\n",
       "   'value': 'MONDO:0014124'}},\n",
       " {'mondo': 'MONDO:0014703',\n",
       "  'umls': 'C4225271',\n",
       "  'name': 'Adams-Oliver syndrome 6',\n",
       "  'display': 'mondo(MONDO:0014703) umls(C4225271) name(Adams-Oliver syndrome 6) ',\n",
       "  'type': 'DiseaseOrPhenotypicFeature',\n",
       "  'primary': {'identifier': 'mondo',\n",
       "   'cls': 'DiseaseOrPhenotypicFeature',\n",
       "   'value': 'MONDO:0014703'}}]"
      ]
     },
     "execution_count": 5,
>>>>>>> inital AOS notebook
=======
       "   'value': 'MONDO:0013635'}}]"
      ]
     },
     "execution_count": 48,
>>>>>>> more documentation, clean up
     "metadata": {},
     "output_type": "execute_result"
    }
   ],
   "source": [
    "# use the hint the module to let BioThings Explorer suggest the inputs for you\n",
    "a = ht.query('Adams-Oliver Syndrome')\n",
    "# the output of the hint module is grouped by semantic types\n",
<<<<<<< 264b4cc82c31fa1a0ccd54d301ccd2319045c9b4
<<<<<<< e1cd5e577332ee62f9e7990c77cb1f09b3575962
    "a['DiseaseOrPhenotypicFeature'][:3]"
=======
    "a['DiseaseOrPhenotypicFeature']"
>>>>>>> inital AOS notebook
=======
    "a['DiseaseOrPhenotypicFeature'][:3]"
>>>>>>> more documentation, clean up
   ]
  },
  {
   "cell_type": "code",
   "execution_count": 4,
   "metadata": {},
   "outputs": [
    {
     "data": {
      "text/plain": [
       "{'mondo': 'MONDO:0007034',\n",
       " 'doid': 'DOID:0060227',\n",
       " 'umls': 'C0265268',\n",
       " 'mesh': 'C538225',\n",
       " 'name': 'Adams-Oliver syndrome',\n",
       " 'display': 'mondo(MONDO:0007034) doid(DOID:0060227) umls(C0265268) mesh(C538225) name(Adams-Oliver syndrome) ',\n",
       " 'type': 'DiseaseOrPhenotypicFeature',\n",
       " 'primary': {'identifier': 'mondo',\n",
       "  'cls': 'DiseaseOrPhenotypicFeature',\n",
       "  'value': 'MONDO:0007034'}}"
      ]
     },
     "execution_count": 4,
     "metadata": {},
     "output_type": "execute_result"
    }
   ],
   "source": [
    "node_aos = a['DiseaseOrPhenotypicFeature'][0]\n",
    "node_aos"
   ]
  },
  {
   "cell_type": "markdown",
   "metadata": {},
   "source": [
<<<<<<< 264b4cc82c31fa1a0ccd54d301ccd2319045c9b4
<<<<<<< e1cd5e577332ee62f9e7990c77cb1f09b3575962
    "## What genes are directly connected to the disease?"
=======
    "## What genes are directly connected to either disease?"
>>>>>>> inital AOS notebook
=======
    "## What genes are directly connected to the disease?"
>>>>>>> more documentation, clean up
   ]
  },
  {
   "cell_type": "code",
   "execution_count": 7,
   "metadata": {},
   "outputs": [],
   "source": [
    "seqd = SingleEdgeQueryDispatcher(input_obj=node_aos,\n",
    "                                 output_cls='Gene',\n",
    "                                 output_id='bts:entrez',\n",
    "                                 registry=reg)\n",
    "seqd.query()"
   ]
  },
  {
   "cell_type": "code",
   "execution_count": 9,
   "metadata": {},
   "outputs": [
    {
     "data": {
      "text/plain": [
       "['MONDO:0007034',\n",
       " '100188340',\n",
       " '285203',\n",
       " '3516',\n",
       " '4851',\n",
       " '54567',\n",
       " '57514',\n",
       " '57572',\n",
       " 'C3889252',\n",
       " 'C2983552',\n",
       " 'C3274857',\n",
       " 'C1705433',\n",
       " 'C0017337',\n",
       " '8473',\n",
       " '998']"
      ]
     },
     "execution_count": 9,
     "metadata": {},
     "output_type": "execute_result"
    }
   ],
   "source": [
    "seqd.show_all_nodes()"
   ]
  },
  {
<<<<<<< 264b4cc82c31fa1a0ccd54d301ccd2319045c9b4
<<<<<<< e1cd5e577332ee62f9e7990c77cb1f09b3575962
=======
>>>>>>> more documentation, clean up
   "cell_type": "markdown",
   "metadata": {},
   "source": [
    "### For each edge in graph, view edge details (source, provenance)"
   ]
  },
  {
<<<<<<< 264b4cc82c31fa1a0ccd54d301ccd2319045c9b4
=======
>>>>>>> inital AOS notebook
=======
>>>>>>> more documentation, clean up
   "cell_type": "code",
   "execution_count": 10,
   "metadata": {},
   "outputs": [
    {
     "data": {
      "text/plain": [
       "{0: {'info': {'bts:entrez': [57514],\n",
       "   '@type': 'Gene',\n",
       "   '$input': 'bts:umls',\n",
       "   '$source': 'disgenet'},\n",
       "  'label': 'bts:associatedWith',\n",
       "  'source': 'disgenet'},\n",
       " 1: {'info': {'bts:entrez': [57514],\n",
       "   '@type': 'Gene',\n",
       "   '$input': 'bts:umls',\n",
       "   '$source': 'disgenet'},\n",
       "  'label': 'bts:associatedWith',\n",
       "  'source': 'disgenet'},\n",
       " 2: {'info': {'bts:hgnc': ['29216'],\n",
       "   'bts:source': ['https://data.monarchinitiative.org/ttl/omim.ttl',\n",
       "    'https://data.monarchinitiative.org/ttl/orphanet.ttl'],\n",
       "   'bts:taxid': ['NCBITaxon:9606'],\n",
       "   '@type': 'Gene',\n",
       "   '$input': 'bts:mondo',\n",
       "   '$source': 'biolink'},\n",
       "  'label': 'bts:associatedWith',\n",
       "  'source': 'biolink'},\n",
       " 3: {'info': {'bts:umls': ['C1970471'],\n",
       "   'bts:pubmed': ['26299364'],\n",
       "   '@type': 'Gene',\n",
       "   '$input': 'bts:umls',\n",
       "   '$source': 'semmed'},\n",
       "  'label': 'bts:causedBy',\n",
       "  'source': 'semmed'}}"
      ]
     },
     "execution_count": 10,
     "metadata": {},
     "output_type": "execute_result"
    }
   ],
   "source": [
    "seqd.display_edge_info('MONDO:0007034','57514')"
   ]
  },
  {
   "cell_type": "code",
   "execution_count": 11,
   "metadata": {},
   "outputs": [
    {
     "data": {
      "text/plain": [
       "{0: {'info': {'bts:entrez': [57572],\n",
       "   '@type': 'Gene',\n",
       "   '$input': 'bts:umls',\n",
       "   '$source': 'disgenet'},\n",
       "  'label': 'bts:associatedWith',\n",
       "  'source': 'disgenet'},\n",
       " 1: {'info': {'bts:entrez': [57572],\n",
       "   '@type': 'Gene',\n",
       "   '$input': 'bts:umls',\n",
       "   '$source': 'disgenet'},\n",
       "  'label': 'bts:associatedWith',\n",
       "  'source': 'disgenet'},\n",
       " 2: {'info': {'bts:hgnc': ['19189'],\n",
       "   'bts:source': ['https://data.monarchinitiative.org/ttl/omim.ttl',\n",
       "    'https://data.monarchinitiative.org/ttl/orphanet.ttl',\n",
       "    'https://data.monarchinitiative.org/ttl/clinvar.nt'],\n",
       "   'bts:taxid': ['NCBITaxon:9606'],\n",
       "   '@type': 'Gene',\n",
       "   '$input': 'bts:mondo',\n",
       "   '$source': 'biolink'},\n",
       "  'label': 'bts:associatedWith',\n",
       "  'source': 'biolink'},\n",
       " 3: {'info': {'bts:umls': ['C1426077'],\n",
       "   'bts:pubmed': ['23522784', '26299364'],\n",
       "   '@type': 'Gene',\n",
       "   '$input': 'bts:umls',\n",
       "   '$source': 'semmed'},\n",
       "  'label': 'bts:causedBy',\n",
       "  'source': 'semmed'}}"
      ]
     },
     "execution_count": 11,
     "metadata": {},
     "output_type": "execute_result"
    }
   ],
   "source": [
    "seqd.display_edge_info('MONDO:0007034','57572')"
   ]
  },
  {
   "cell_type": "code",
   "execution_count": 12,
   "metadata": {},
   "outputs": [
    {
     "data": {
      "text/plain": [
       "{0: {'info': {'bts:entrez': [285203],\n",
       "   '@type': 'Gene',\n",
       "   '$input': 'bts:umls',\n",
       "   '$source': 'disgenet'},\n",
       "  'label': 'bts:associatedWith',\n",
       "  'source': 'disgenet'},\n",
       " 1: {'info': {'bts:entrez': [285203],\n",
       "   '@type': 'Gene',\n",
       "   '$input': 'bts:umls',\n",
       "   '$source': 'disgenet'},\n",
       "  'label': 'bts:associatedWith',\n",
       "  'source': 'disgenet'},\n",
       " 2: {'info': {'bts:hgnc': ['28526'],\n",
       "   'bts:source': ['https://data.monarchinitiative.org/ttl/omim.ttl',\n",
       "    'https://data.monarchinitiative.org/ttl/orphanet.ttl',\n",
       "    'https://data.monarchinitiative.org/ttl/clinvar.nt'],\n",
       "   'bts:taxid': ['NCBITaxon:9606'],\n",
       "   '@type': 'Gene',\n",
       "   '$input': 'bts:mondo',\n",
       "   '$source': 'biolink'},\n",
       "  'label': 'bts:associatedWith',\n",
       "  'source': 'biolink'},\n",
       " 3: {'info': {'bts:umls': ['C1824159'],\n",
       "   'bts:pubmed': ['26299364'],\n",
       "   '@type': 'Gene',\n",
       "   '$input': 'bts:umls',\n",
       "   '$source': 'semmed'},\n",
       "  'label': 'bts:causedBy',\n",
       "  'source': 'semmed'}}"
      ]
     },
     "execution_count": 12,
     "metadata": {},
     "output_type": "execute_result"
    }
   ],
   "source": [
    "seqd.display_edge_info('MONDO:0007034','285203')"
   ]
  },
  {
   "cell_type": "code",
   "execution_count": 13,
   "metadata": {},
   "outputs": [
    {
     "data": {
      "text/plain": [
       "{0: {'info': {'bts:entrez': [4851],\n",
       "   '@type': 'Gene',\n",
       "   '$input': 'bts:umls',\n",
       "   '$source': 'disgenet'},\n",
       "  'label': 'bts:associatedWith',\n",
       "  'source': 'disgenet'},\n",
       " 1: {'info': {'bts:entrez': [4851],\n",
       "   '@type': 'Gene',\n",
       "   '$input': 'bts:umls',\n",
       "   '$source': 'disgenet'},\n",
       "  'label': 'bts:associatedWith',\n",
       "  'source': 'disgenet'},\n",
       " 2: {'info': {'bts:hgnc': ['7881'],\n",
       "   'bts:source': ['https://data.monarchinitiative.org/ttl/omim.ttl',\n",
       "    'https://data.monarchinitiative.org/ttl/orphanet.ttl'],\n",
       "   'bts:taxid': ['NCBITaxon:9606'],\n",
       "   '@type': 'Gene',\n",
       "   '$input': 'bts:mondo',\n",
       "   '$source': 'biolink'},\n",
       "  'label': 'bts:associatedWith',\n",
       "  'source': 'biolink'},\n",
       " 3: {'info': {'bts:umls': ['C1334889'],\n",
       "   'bts:pubmed': ['25132448', '26299364'],\n",
       "   '@type': 'Gene',\n",
       "   '$input': 'bts:umls',\n",
       "   '$source': 'semmed'},\n",
       "  'label': 'bts:causedBy',\n",
       "  'source': 'semmed'}}"
      ]
     },
     "execution_count": 13,
     "metadata": {},
     "output_type": "execute_result"
    }
   ],
   "source": [
    "seqd.display_edge_info('MONDO:0007034','4851')"
   ]
  },
  {
   "cell_type": "code",
   "execution_count": 14,
   "metadata": {},
   "outputs": [
    {
     "data": {
      "text/plain": [
       "{0: {'info': {'bts:entrez': [3516],\n",
       "   '@type': 'Gene',\n",
       "   '$input': 'bts:umls',\n",
       "   '$source': 'disgenet'},\n",
       "  'label': 'bts:associatedWith',\n",
       "  'source': 'disgenet'},\n",
       " 1: {'info': {'bts:entrez': [3516],\n",
       "   '@type': 'Gene',\n",
       "   '$input': 'bts:umls',\n",
       "   '$source': 'disgenet'},\n",
       "  'label': 'bts:associatedWith',\n",
       "  'source': 'disgenet'},\n",
       " 2: {'info': {'bts:hgnc': ['5724'],\n",
       "   'bts:source': ['https://data.monarchinitiative.org/ttl/omim.ttl',\n",
       "    'https://data.monarchinitiative.org/ttl/orphanet.ttl'],\n",
       "   'bts:taxid': ['NCBITaxon:9606'],\n",
       "   '@type': 'Gene',\n",
       "   '$input': 'bts:mondo',\n",
       "   '$source': 'biolink'},\n",
       "  'label': 'bts:associatedWith',\n",
       "  'source': 'biolink'}}"
      ]
     },
     "execution_count": 14,
     "metadata": {},
     "output_type": "execute_result"
    }
   ],
   "source": [
    "seqd.display_edge_info('MONDO:0007034','3516')"
   ]
  },
  {
   "cell_type": "code",
   "execution_count": 15,
   "metadata": {},
   "outputs": [
    {
     "data": {
      "text/plain": [
       "{0: {'info': {'bts:entrez': [54567],\n",
       "   '@type': 'Gene',\n",
       "   '$input': 'bts:umls',\n",
       "   '$source': 'disgenet'},\n",
       "  'label': 'bts:associatedWith',\n",
       "  'source': 'disgenet'},\n",
       " 1: {'info': {'bts:entrez': [54567],\n",
       "   '@type': 'Gene',\n",
       "   '$input': 'bts:umls',\n",
       "   '$source': 'disgenet'},\n",
       "  'label': 'bts:associatedWith',\n",
       "  'source': 'disgenet'},\n",
       " 2: {'info': {'bts:hgnc': ['2910'],\n",
       "   'bts:source': ['https://data.monarchinitiative.org/ttl/omim.ttl',\n",
       "    'https://data.monarchinitiative.org/ttl/orphanet.ttl',\n",
       "    'https://data.monarchinitiative.org/ttl/clinvar.nt'],\n",
       "   'bts:publication': [{'id': 'PMID:26299364', 'label': None}],\n",
       "   'bts:taxid': ['NCBITaxon:9606'],\n",
       "   '@type': 'Gene',\n",
       "   '$input': 'bts:mondo',\n",
       "   '$source': 'biolink'},\n",
       "  'label': 'bts:associatedWith',\n",
       "  'source': 'biolink'}}"
      ]
     },
     "execution_count": 15,
     "metadata": {},
     "output_type": "execute_result"
    }
   ],
   "source": [
    "seqd.display_edge_info('MONDO:0007034','54567')"
   ]
  },
  {
   "cell_type": "markdown",
   "metadata": {},
   "source": [
    "## Find gene links to NOTCH1 (NCBI:4851)"
   ]
  },
  {
   "cell_type": "code",
<<<<<<< 264b4cc82c31fa1a0ccd54d301ccd2319045c9b4
<<<<<<< e1cd5e577332ee62f9e7990c77cb1f09b3575962
   "execution_count": 49,
=======
   "execution_count": 16,
>>>>>>> inital AOS notebook
=======
   "execution_count": 49,
>>>>>>> more documentation, clean up
   "metadata": {},
   "outputs": [
    {
     "data": {
      "text/plain": [
       "[{'entrez': '4851',\n",
       "  'name': 'notch receptor 1',\n",
       "  'symbol': 'NOTCH1',\n",
       "  'taxonomy': 9606,\n",
       "  'umls': 'C1334889',\n",
       "  'display': 'entrez(4851) name(notch receptor 1) symbol(NOTCH1) taxonomy(9606) umls(C1334889) ',\n",
       "  'type': 'Gene',\n",
       "  'primary': {'identifier': 'entrez', 'cls': 'Gene', 'value': '4851'}},\n",
       " {'entrez': '18128',\n",
       "  'name': 'notch 1',\n",
       "  'symbol': 'Notch1',\n",
       "  'taxonomy': 10090,\n",
       "  'display': 'entrez(18128) name(notch 1) symbol(Notch1) taxonomy(10090) ',\n",
       "  'type': 'Gene',\n",
       "  'primary': {'identifier': 'entrez', 'cls': 'Gene', 'value': '18128'}},\n",
       " {'entrez': '25496',\n",
       "  'name': 'notch receptor 1',\n",
       "  'symbol': 'Notch1',\n",
       "  'taxonomy': 10116,\n",
       "  'display': 'entrez(25496) name(notch receptor 1) symbol(Notch1) taxonomy(10116) ',\n",
       "  'type': 'Gene',\n",
<<<<<<< 264b4cc82c31fa1a0ccd54d301ccd2319045c9b4
<<<<<<< e1cd5e577332ee62f9e7990c77cb1f09b3575962
       "  'primary': {'identifier': 'entrez', 'cls': 'Gene', 'value': '25496'}}]"
      ]
     },
     "execution_count": 49,
=======
       "  'primary': {'identifier': 'entrez', 'cls': 'Gene', 'value': '25496'}},\n",
       " {'entrez': '113124468',\n",
       "  'name': 'notch receptor 1',\n",
       "  'symbol': 'notch1',\n",
       "  'taxonomy': 205130,\n",
       "  'display': 'entrez(113124468) name(notch receptor 1) symbol(notch1) taxonomy(205130) ',\n",
       "  'type': 'Gene',\n",
       "  'primary': {'identifier': 'entrez', 'cls': 'Gene', 'value': '113124468'}},\n",
       " {'entrez': '101837819',\n",
       "  'name': 'notch receptor 1',\n",
       "  'symbol': 'Notch1',\n",
       "  'taxonomy': 10036,\n",
       "  'display': 'entrez(101837819) name(notch receptor 1) symbol(Notch1) taxonomy(10036) ',\n",
       "  'type': 'Gene',\n",
       "  'primary': {'identifier': 'entrez', 'cls': 'Gene', 'value': '101837819'}}]"
      ]
     },
     "execution_count": 16,
>>>>>>> inital AOS notebook
=======
       "  'primary': {'identifier': 'entrez', 'cls': 'Gene', 'value': '25496'}}]"
      ]
     },
     "execution_count": 49,
>>>>>>> more documentation, clean up
     "metadata": {},
     "output_type": "execute_result"
    }
   ],
   "source": [
    "# use the hint the module to let BioThings Explorer suggest the inputs for you\n",
    "a = ht.query('NOTCH1')\n",
    "# the output of the hint module is grouped by semantic types\n",
<<<<<<< 264b4cc82c31fa1a0ccd54d301ccd2319045c9b4
<<<<<<< e1cd5e577332ee62f9e7990c77cb1f09b3575962
    "a['Gene'][:3]"
=======
    "a['Gene']"
>>>>>>> inital AOS notebook
=======
    "a['Gene'][:3]"
>>>>>>> more documentation, clean up
   ]
  },
  {
   "cell_type": "code",
   "execution_count": 18,
   "metadata": {},
   "outputs": [
    {
     "data": {
      "text/plain": [
       "{'entrez': '4851',\n",
       " 'name': 'notch receptor 1',\n",
       " 'symbol': 'NOTCH1',\n",
       " 'taxonomy': 9606,\n",
       " 'umls': 'C1334889',\n",
       " 'display': 'entrez(4851) name(notch receptor 1) symbol(NOTCH1) taxonomy(9606) umls(C1334889) ',\n",
       " 'type': 'Gene',\n",
       " 'primary': {'identifier': 'entrez', 'cls': 'Gene', 'value': '4851'}}"
      ]
     },
     "execution_count": 18,
     "metadata": {},
     "output_type": "execute_result"
    }
   ],
   "source": [
    "node_notch1 = a['Gene'][0]\n",
    "node_notch1"
   ]
  },
  {
   "cell_type": "code",
   "execution_count": 19,
   "metadata": {},
   "outputs": [],
   "source": [
    "seqd = SingleEdgeQueryDispatcher(input_obj=node_notch1,\n",
    "                                 output_cls='Gene',\n",
    "                                 output_id='bts:entrez',\n",
    "                                 registry=reg)\n",
    "seqd.query()"
   ]
  },
  {
   "cell_type": "code",
<<<<<<< 264b4cc82c31fa1a0ccd54d301ccd2319045c9b4
<<<<<<< e1cd5e577332ee62f9e7990c77cb1f09b3575962
   "execution_count": 39,
=======
   "execution_count": 20,
>>>>>>> inital AOS notebook
=======
   "execution_count": 39,
>>>>>>> more documentation, clean up
   "metadata": {},
   "outputs": [
    {
     "data": {
      "text/plain": [
<<<<<<< 264b4cc82c31fa1a0ccd54d301ccd2319045c9b4
<<<<<<< e1cd5e577332ee62f9e7990c77cb1f09b3575962
=======
>>>>>>> more documentation, clean up
       "['998',\n",
       " '106211',\n",
       " '71043',\n",
       " 'ENSGALG00000004796',\n",
       " 'ZDB-GENE-060312-21',\n",
       " 'FBgn0010341',\n",
       " 'S000004219',\n",
       " 'SPAC110.03',\n",
       " '27289',\n",
       " '171177']"
<<<<<<< 264b4cc82c31fa1a0ccd54d301ccd2319045c9b4
      ]
     },
     "execution_count": 39,
=======
       "['4851',\n",
       " '97363',\n",
       " 'ENSGALG00000002375',\n",
       " '4853',\n",
       " '324',\n",
       " '331',\n",
       " '1387',\n",
       " '9439',\n",
       " '57459',\n",
       " '83696',\n",
       " '207',\n",
       " '1499',\n",
       " '1490',\n",
       " '8452',\n",
       " '10046',\n",
       " '7852',\n",
       " '59',\n",
       " '9126',\n",
       " '102',\n",
       " '6868',\n",
       " '22806',\n",
       " '10320',\n",
       " '89780',\n",
       " '55869',\n",
       " '1759',\n",
       " '24148',\n",
       " '8788',\n",
       " '28514',\n",
       " '54567',\n",
       " '10683',\n",
       " '4093',\n",
       " '4089',\n",
       " '2624',\n",
       " '4088',\n",
       " '2625',\n",
       " '4015',\n",
       " '4193',\n",
       " '6597',\n",
       " '8467',\n",
       " '6601',\n",
       " '6657',\n",
       " '8328',\n",
       " '4214',\n",
       " '5594',\n",
       " '6591',\n",
       " '8243',\n",
       " '8312',\n",
       " '2683',\n",
       " '55717',\n",
       " '6662',\n",
       " '83737',\n",
       " '8878',\n",
       " '6714',\n",
       " '487',\n",
       " '488',\n",
       " '1272',\n",
       " '472',\n",
       " '50674',\n",
       " '1288',\n",
       " '3054',\n",
       " '429',\n",
       " '10273',\n",
       " '351',\n",
       " '861',\n",
       " '182',\n",
       " '5080',\n",
       " '3569',\n",
       " '5290',\n",
       " '6469',\n",
       " '3955',\n",
       " '3932',\n",
       " '56983',\n",
       " '3845',\n",
       " '23133',\n",
       " '55193',\n",
       " '23028',\n",
       " '23347',\n",
       " '55851',\n",
       " '10594',\n",
       " '8076',\n",
       " '79718',\n",
       " '142678',\n",
       " '57120',\n",
       " '650',\n",
       " '652',\n",
       " '2324',\n",
       " '2321',\n",
       " '2188',\n",
       " '2189',\n",
       " '2176',\n",
       " '2175',\n",
       " '81857',\n",
       " '10013',\n",
       " '9759',\n",
       " '2353',\n",
       " '2308',\n",
       " '867',\n",
       " '595',\n",
       " '846',\n",
       " '773',\n",
       " '2303',\n",
       " '1027',\n",
       " '987',\n",
       " '25937',\n",
       " '4854',\n",
       " '654429',\n",
       " '6586',\n",
       " '6585',\n",
       " '57408',\n",
       " '59352',\n",
       " '9353',\n",
       " '25802',\n",
       " '4323',\n",
       " '7474',\n",
       " '572',\n",
       " '9734',\n",
       " '2146',\n",
       " '1026',\n",
       " '6929',\n",
       " '7058',\n",
       " '6857',\n",
       " '57178',\n",
       " '3084',\n",
       " '3720',\n",
       " '7157',\n",
       " '8772',\n",
       " '8650',\n",
       " '6962',\n",
       " '64689',\n",
       " '1154',\n",
       " '2309',\n",
       " '100133941',\n",
       " '2173',\n",
       " '2551',\n",
       " '581',\n",
       " '54363',\n",
       " '10524',\n",
       " '1956',\n",
       " '390',\n",
       " '112597',\n",
       " '7001',\n",
       " '64919',\n",
       " '8626',\n",
       " '554213',\n",
       " '4297',\n",
       " '3880',\n",
       " '10970',\n",
       " '55294',\n",
       " '6347',\n",
       " '9314',\n",
       " '5300',\n",
       " '55599',\n",
       " '7422',\n",
       " '2247',\n",
       " '4066',\n",
       " '1444',\n",
       " '4609',\n",
       " '5663',\n",
       " '58480',\n",
       " '6670',\n",
       " '619556',\n",
       " '4613',\n",
       " '322',\n",
       " '23418',\n",
       " '4236',\n",
       " '407040',\n",
       " '23385',\n",
       " '10058',\n",
       " '101928483',\n",
       " '1302',\n",
       " '23451',\n",
       " '23493',\n",
       " '23509',\n",
       " '2648',\n",
       " '26960',\n",
       " '282991',\n",
       " '30009',\n",
       " '3559',\n",
       " '3640',\n",
       " '3669',\n",
       " '3676',\n",
       " '407029',\n",
       " '4734',\n",
       " '51053',\n",
       " '5291',\n",
       " '5292',\n",
       " '54361',\n",
       " '55323',\n",
       " '55759',\n",
       " '5728',\n",
       " '5947',\n",
       " '644914',\n",
       " '65989',\n",
       " '6778',\n",
       " '7124',\n",
       " '780',\n",
       " '83439',\n",
       " '83892',\n",
       " '84433',\n",
       " '860',\n",
       " '8795',\n",
       " '8850',\n",
       " '920',\n",
       " '9338',\n",
       " '958',\n",
       " '9860',\n",
       " '2064',\n",
       " '1029',\n",
       " '4363',\n",
       " '3195',\n",
       " '10232',\n",
       " '8915',\n",
       " '249',\n",
       " '5649',\n",
       " '6862',\n",
       " '56940',\n",
       " '10217',\n",
       " '10419',\n",
       " '10657',\n",
       " '11059',\n",
       " '140828',\n",
       " '2047',\n",
       " '220202',\n",
       " '2305',\n",
       " '23636',\n",
       " '2475',\n",
       " '344167',\n",
       " '346673',\n",
       " '367',\n",
       " '3850',\n",
       " '4242',\n",
       " '4602',\n",
       " '50511',\n",
       " '51164',\n",
       " '5241',\n",
       " '5460',\n",
       " '55384',\n",
       " '5629',\n",
       " '57534',\n",
       " '6093',\n",
       " '63973',\n",
       " '64855',\n",
       " '6530',\n",
       " '6886',\n",
       " '7040',\n",
       " '7185',\n",
       " '8842',\n",
       " '9201',\n",
       " '3265',\n",
       " '2078',\n",
       " '2065',\n",
       " '5045',\n",
       " '23410',\n",
       " '80310',\n",
       " '1843',\n",
       " 'C2827379',\n",
       " 'C0165519',\n",
       " 'C1704964',\n",
       " 'C2984560',\n",
       " 'C3889458',\n",
       " 'C0033640',\n",
       " 'C0054450',\n",
       " 'C2983552',\n",
       " 'C3538798',\n",
       " 'C3811802',\n",
       " 'C0913155',\n",
       " 'C1705138',\n",
       " 'C0031678',\n",
       " 'C2700222',\n",
       " 'C3538849',\n",
       " 'C1332838',\n",
       " 'C1705985',\n",
       " 'C2984536',\n",
       " 'C3714973',\n",
       " 'C0025543',\n",
       " 'C0208355',\n",
       " 'C0291573',\n",
       " 'C1705526',\n",
       " 'C1706879',\n",
       " 'C1705982',\n",
       " 'C0022457',\n",
       " 'C3829362',\n",
       " 'C2987044',\n",
       " 'C2699237',\n",
       " 'C0062773',\n",
       " 'C2827373',\n",
       " 'C0079068',\n",
       " 'C1709127',\n",
       " 'C1705720',\n",
       " 'C0244987',\n",
       " 'C0023689',\n",
       " 'C0379528',\n",
       " 'C2827371',\n",
       " 'C2984596',\n",
       " 'C1704868',\n",
       " 'C1705280',\n",
       " 'C2346452',\n",
       " 'C1705082',\n",
       " 'C1881490',\n",
       " 'C1709384',\n",
       " 'C2699836',\n",
       " 'C1705767',\n",
       " 'C1704824',\n",
       " 'C4521364',\n",
       " 'C3539571',\n",
       " 'C2985259',\n",
       " 'C3538885',\n",
       " 'C1705271',\n",
       " 'C1705543',\n",
       " 'C3889252',\n",
       " 'C1706224',\n",
       " 'C2825957',\n",
       " 'C2826006',\n",
       " 'C1704873',\n",
       " 'C1708843',\n",
       " 'C1705846',\n",
       " 'C1709136',\n",
       " 'C1704661',\n",
       " 'C3539774',\n",
       " 'C1705325',\n",
       " 'C3539667',\n",
       " 'C1705934',\n",
       " 'C3539566',\n",
       " 'C1706894',\n",
       " 'C3812262',\n",
       " 'C2827459',\n",
       " 'C1706637',\n",
       " 'C3889408',\n",
       " 'C1705831',\n",
       " 'C2700300',\n",
       " 'C3541324',\n",
       " 'C1707078',\n",
       " 'C1706590',\n",
       " 'C1706438',\n",
       " 'C3889467',\n",
       " 'C3811170',\n",
       " 'C0017337',\n",
       " 'C0079427',\n",
       " 'C1367471',\n",
       " 'C0010656',\n",
       " 'C0019643',\n",
       " 'C0030940',\n",
       " 'C0033164',\n",
       " 'C0061878',\n",
       " 'C0078939',\n",
       " 'C0085151',\n",
       " 'C0136134',\n",
       " 'C0164786',\n",
       " 'C0172537',\n",
       " 'C0244988',\n",
       " 'C0287990',\n",
       " 'C0669365',\n",
       " 'C0752312',\n",
       " 'C1565434',\n",
       " 'C0077678',\n",
       " 'C0002059',\n",
       " 'C0008546',\n",
       " 'C0010803',\n",
       " 'C0032405',\n",
       " 'C0035094',\n",
       " 'C0061666',\n",
       " 'C0256371',\n",
       " 'C0669372',\n",
       " 'C1136240',\n",
       " 'C3812737',\n",
       " 'C3541980',\n",
       " 'C3272491',\n",
       " 'C1705456',\n",
       " 'C1704825',\n",
       " 'C1705964',\n",
       " 'C2987244',\n",
       " 'C1705411',\n",
       " 'C3273757',\n",
       " 'C2348502',\n",
       " 'C1705572',\n",
       " 'C3273507',\n",
       " 'C1706384',\n",
       " 'C1705844',\n",
       " 'C2983560',\n",
       " 'C3539722',\n",
       " 'C2697857',\n",
       " 'C4284041',\n",
       " 'C2984121',\n",
       " 'C4084758',\n",
       " 'C3539626',\n",
       " 'C2347263',\n",
       " 'C0035899',\n",
       " 'C0920288',\n",
       " 'C1705047',\n",
       " 'C0001476',\n",
       " 'C0018358',\n",
       " 'C0044602',\n",
       " 'C0385469',\n",
       " 'C0387583',\n",
       " 'C0623362',\n",
       " 'C1307407']"
      ]
     },
     "execution_count": 20,
>>>>>>> inital AOS notebook
=======
      ]
     },
     "execution_count": 39,
>>>>>>> more documentation, clean up
     "metadata": {},
     "output_type": "execute_result"
    }
   ],
   "source": [
<<<<<<< 264b4cc82c31fa1a0ccd54d301ccd2319045c9b4
<<<<<<< e1cd5e577332ee62f9e7990c77cb1f09b3575962
=======
>>>>>>> more documentation, clean up
    "seqd.show_all_nodes()[:10]"
   ]
  },
  {
   "cell_type": "markdown",
   "metadata": {},
   "source": [
    "### for each edge in graph, view edge details (source and provenance)\n",
    "Execution errors mean the edge is not found.  Two caveats with these negative results:\n",
    "* as noted above, BTE current limits to a maximum of 100 results for each API query, so may not be fully reporting the reuslts from each source\n",
    "* some resources do not report reciprocal relationships, so other results may be found if we reverse the query"
<<<<<<< 264b4cc82c31fa1a0ccd54d301ccd2319045c9b4
=======
    "seqd.show_all_nodes()"
>>>>>>> inital AOS notebook
=======
>>>>>>> more documentation, clean up
   ]
  },
  {
   "cell_type": "code",
<<<<<<< 264b4cc82c31fa1a0ccd54d301ccd2319045c9b4
<<<<<<< e1cd5e577332ee62f9e7990c77cb1f09b3575962
   "execution_count": 40,
   "metadata": {},
   "outputs": [
    {
     "name": "stdout",
     "output_type": "stream",
     "text": [
      "Edge not found\n"
=======
   "execution_count": 21,
   "metadata": {},
   "outputs": [
    {
     "ename": "Exception",
     "evalue": "285203 is not in the graph",
     "output_type": "error",
     "traceback": [
      "\u001b[0;31m---------------------------------------------------------------------------\u001b[0m",
      "\u001b[0;31mException\u001b[0m                                 Traceback (most recent call last)",
      "\u001b[0;32m<ipython-input-21-1e88cc820841>\u001b[0m in \u001b[0;36m<module>\u001b[0;34m\u001b[0m\n\u001b[0;32m----> 1\u001b[0;31m \u001b[0mseqd\u001b[0m\u001b[0;34m.\u001b[0m\u001b[0mdisplay_edge_info\u001b[0m\u001b[0;34m(\u001b[0m\u001b[0;34m'4851'\u001b[0m\u001b[0;34m,\u001b[0m\u001b[0;34m'285203'\u001b[0m\u001b[0;34m)\u001b[0m\u001b[0;34m\u001b[0m\u001b[0;34m\u001b[0m\u001b[0m\n\u001b[0m",
      "\u001b[0;32m~/env/bte_schema/lib/python3.6/site-packages/biothings_explorer/user_query_dispatcher.py\u001b[0m in \u001b[0;36mdisplay_edge_info\u001b[0;34m(self, start_node, end_node)\u001b[0m\n\u001b[1;32m    218\u001b[0m             \u001b[0;32mraise\u001b[0m \u001b[0mException\u001b[0m\u001b[0;34m(\u001b[0m\u001b[0;34m\"{} is not in the graph\"\u001b[0m\u001b[0;34m.\u001b[0m\u001b[0mformat\u001b[0m\u001b[0;34m(\u001b[0m\u001b[0mstart_node\u001b[0m\u001b[0;34m)\u001b[0m\u001b[0;34m)\u001b[0m\u001b[0;34m\u001b[0m\u001b[0;34m\u001b[0m\u001b[0m\n\u001b[1;32m    219\u001b[0m         \u001b[0;32mif\u001b[0m \u001b[0mend_node\u001b[0m \u001b[0;32mnot\u001b[0m \u001b[0;32min\u001b[0m \u001b[0mself\u001b[0m\u001b[0;34m.\u001b[0m\u001b[0mG\u001b[0m\u001b[0;34m:\u001b[0m\u001b[0;34m\u001b[0m\u001b[0;34m\u001b[0m\u001b[0m\n\u001b[0;32m--> 220\u001b[0;31m             \u001b[0;32mraise\u001b[0m \u001b[0mException\u001b[0m\u001b[0;34m(\u001b[0m\u001b[0;34m\"{} is not in the graph\"\u001b[0m\u001b[0;34m.\u001b[0m\u001b[0mformat\u001b[0m\u001b[0;34m(\u001b[0m\u001b[0mend_node\u001b[0m\u001b[0;34m)\u001b[0m\u001b[0;34m)\u001b[0m\u001b[0;34m\u001b[0m\u001b[0;34m\u001b[0m\u001b[0m\n\u001b[0m\u001b[1;32m    221\u001b[0m         \u001b[0;32mif\u001b[0m \u001b[0;32mnot\u001b[0m \u001b[0mself\u001b[0m\u001b[0;34m.\u001b[0m\u001b[0mG\u001b[0m\u001b[0;34m.\u001b[0m\u001b[0mhas_edge\u001b[0m\u001b[0;34m(\u001b[0m\u001b[0mstart_node\u001b[0m\u001b[0;34m,\u001b[0m \u001b[0mend_node\u001b[0m\u001b[0;34m)\u001b[0m\u001b[0;34m:\u001b[0m\u001b[0;34m\u001b[0m\u001b[0;34m\u001b[0m\u001b[0m\n\u001b[1;32m    222\u001b[0m             \u001b[0;32mraise\u001b[0m \u001b[0mException\u001b[0m\u001b[0;34m(\u001b[0m\u001b[0;34m\"No edge exists between {} and {}\"\u001b[0m\u001b[0;34m.\u001b[0m\u001b[0mformat\u001b[0m\u001b[0;34m(\u001b[0m\u001b[0mstart_node\u001b[0m\u001b[0;34m,\u001b[0m \u001b[0mend_node\u001b[0m\u001b[0;34m)\u001b[0m\u001b[0;34m)\u001b[0m\u001b[0;34m\u001b[0m\u001b[0;34m\u001b[0m\u001b[0m\n",
      "\u001b[0;31mException\u001b[0m: 285203 is not in the graph"
>>>>>>> inital AOS notebook
=======
   "execution_count": 40,
   "metadata": {},
   "outputs": [
    {
     "name": "stdout",
     "output_type": "stream",
     "text": [
      "Edge not found\n"
>>>>>>> more documentation, clean up
     ]
    }
   ],
   "source": [
<<<<<<< 264b4cc82c31fa1a0ccd54d301ccd2319045c9b4
<<<<<<< e1cd5e577332ee62f9e7990c77cb1f09b3575962
=======
>>>>>>> more documentation, clean up
    "try:\n",
    "    seqd.display_edge_info('4851','285203')\n",
    "except:\n",
    "    print(\"Edge not found\")"
<<<<<<< 264b4cc82c31fa1a0ccd54d301ccd2319045c9b4
=======
    "seqd.display_edge_info('4851','285203')"
>>>>>>> inital AOS notebook
=======
>>>>>>> more documentation, clean up
   ]
  },
  {
   "cell_type": "code",
<<<<<<< 264b4cc82c31fa1a0ccd54d301ccd2319045c9b4
<<<<<<< e1cd5e577332ee62f9e7990c77cb1f09b3575962
   "execution_count": 41,
   "metadata": {},
   "outputs": [
    {
     "name": "stdout",
     "output_type": "stream",
     "text": [
      "Edge not found\n"
=======
   "execution_count": 22,
   "metadata": {},
   "outputs": [
    {
     "ename": "Exception",
     "evalue": "3516 is not in the graph",
     "output_type": "error",
     "traceback": [
      "\u001b[0;31m---------------------------------------------------------------------------\u001b[0m",
      "\u001b[0;31mException\u001b[0m                                 Traceback (most recent call last)",
      "\u001b[0;32m<ipython-input-22-ec3ec90535d9>\u001b[0m in \u001b[0;36m<module>\u001b[0;34m\u001b[0m\n\u001b[0;32m----> 1\u001b[0;31m \u001b[0mseqd\u001b[0m\u001b[0;34m.\u001b[0m\u001b[0mdisplay_edge_info\u001b[0m\u001b[0;34m(\u001b[0m\u001b[0;34m'4851'\u001b[0m\u001b[0;34m,\u001b[0m\u001b[0;34m'3516'\u001b[0m\u001b[0;34m)\u001b[0m\u001b[0;34m\u001b[0m\u001b[0;34m\u001b[0m\u001b[0m\n\u001b[0m",
      "\u001b[0;32m~/env/bte_schema/lib/python3.6/site-packages/biothings_explorer/user_query_dispatcher.py\u001b[0m in \u001b[0;36mdisplay_edge_info\u001b[0;34m(self, start_node, end_node)\u001b[0m\n\u001b[1;32m    218\u001b[0m             \u001b[0;32mraise\u001b[0m \u001b[0mException\u001b[0m\u001b[0;34m(\u001b[0m\u001b[0;34m\"{} is not in the graph\"\u001b[0m\u001b[0;34m.\u001b[0m\u001b[0mformat\u001b[0m\u001b[0;34m(\u001b[0m\u001b[0mstart_node\u001b[0m\u001b[0;34m)\u001b[0m\u001b[0;34m)\u001b[0m\u001b[0;34m\u001b[0m\u001b[0;34m\u001b[0m\u001b[0m\n\u001b[1;32m    219\u001b[0m         \u001b[0;32mif\u001b[0m \u001b[0mend_node\u001b[0m \u001b[0;32mnot\u001b[0m \u001b[0;32min\u001b[0m \u001b[0mself\u001b[0m\u001b[0;34m.\u001b[0m\u001b[0mG\u001b[0m\u001b[0;34m:\u001b[0m\u001b[0;34m\u001b[0m\u001b[0;34m\u001b[0m\u001b[0m\n\u001b[0;32m--> 220\u001b[0;31m             \u001b[0;32mraise\u001b[0m \u001b[0mException\u001b[0m\u001b[0;34m(\u001b[0m\u001b[0;34m\"{} is not in the graph\"\u001b[0m\u001b[0;34m.\u001b[0m\u001b[0mformat\u001b[0m\u001b[0;34m(\u001b[0m\u001b[0mend_node\u001b[0m\u001b[0;34m)\u001b[0m\u001b[0;34m)\u001b[0m\u001b[0;34m\u001b[0m\u001b[0;34m\u001b[0m\u001b[0m\n\u001b[0m\u001b[1;32m    221\u001b[0m         \u001b[0;32mif\u001b[0m \u001b[0;32mnot\u001b[0m \u001b[0mself\u001b[0m\u001b[0;34m.\u001b[0m\u001b[0mG\u001b[0m\u001b[0;34m.\u001b[0m\u001b[0mhas_edge\u001b[0m\u001b[0;34m(\u001b[0m\u001b[0mstart_node\u001b[0m\u001b[0;34m,\u001b[0m \u001b[0mend_node\u001b[0m\u001b[0;34m)\u001b[0m\u001b[0;34m:\u001b[0m\u001b[0;34m\u001b[0m\u001b[0;34m\u001b[0m\u001b[0m\n\u001b[1;32m    222\u001b[0m             \u001b[0;32mraise\u001b[0m \u001b[0mException\u001b[0m\u001b[0;34m(\u001b[0m\u001b[0;34m\"No edge exists between {} and {}\"\u001b[0m\u001b[0;34m.\u001b[0m\u001b[0mformat\u001b[0m\u001b[0;34m(\u001b[0m\u001b[0mstart_node\u001b[0m\u001b[0;34m,\u001b[0m \u001b[0mend_node\u001b[0m\u001b[0;34m)\u001b[0m\u001b[0;34m)\u001b[0m\u001b[0;34m\u001b[0m\u001b[0;34m\u001b[0m\u001b[0m\n",
      "\u001b[0;31mException\u001b[0m: 3516 is not in the graph"
>>>>>>> inital AOS notebook
=======
   "execution_count": 41,
   "metadata": {},
   "outputs": [
    {
     "name": "stdout",
     "output_type": "stream",
     "text": [
      "Edge not found\n"
>>>>>>> more documentation, clean up
     ]
    }
   ],
   "source": [
<<<<<<< 264b4cc82c31fa1a0ccd54d301ccd2319045c9b4
<<<<<<< e1cd5e577332ee62f9e7990c77cb1f09b3575962
=======
>>>>>>> more documentation, clean up
    "try:\n",
    "    seqd.display_edge_info('4851','3516')\n",
    "except:\n",
    "    print(\"Edge not found\")"
<<<<<<< 264b4cc82c31fa1a0ccd54d301ccd2319045c9b4
=======
    "seqd.display_edge_info('4851','3516')"
>>>>>>> inital AOS notebook
=======
>>>>>>> more documentation, clean up
   ]
  },
  {
   "cell_type": "code",
<<<<<<< 264b4cc82c31fa1a0ccd54d301ccd2319045c9b4
<<<<<<< e1cd5e577332ee62f9e7990c77cb1f09b3575962
   "execution_count": 42,
=======
   "execution_count": 23,
>>>>>>> inital AOS notebook
=======
   "execution_count": 42,
>>>>>>> more documentation, clean up
   "metadata": {
    "scrolled": true
   },
   "outputs": [
    {
<<<<<<< 264b4cc82c31fa1a0ccd54d301ccd2319045c9b4
<<<<<<< e1cd5e577332ee62f9e7990c77cb1f09b3575962
=======
>>>>>>> more documentation, clean up
     "name": "stdout",
     "output_type": "stream",
     "text": [
      "Edge not found\n"
     ]
<<<<<<< 264b4cc82c31fa1a0ccd54d301ccd2319045c9b4
    }
   ],
   "source": [
    "try:\n",
    "    seqd.display_edge_info('4851','54567')\n",
    "except:\n",
    "    print(\"Edge not found\")"
=======
     "data": {
      "text/plain": [
       "{0: {'info': {'bts:hgnc': ['2910'],\n",
       "   'bts:taxid': ['NCBITaxon:9606'],\n",
       "   'bts:source': ['https://data.monarchinitiative.org/ttl/string.ttl'],\n",
       "   '@type': 'Gene',\n",
       "   '$input': 'bts:entrez',\n",
       "   '$source': 'biolink'},\n",
       "  'label': 'bts:molecularlyInteractsWith',\n",
       "  'source': 'biolink'}}"
      ]
     },
     "execution_count": 23,
     "metadata": {},
     "output_type": "execute_result"
    }
   ],
   "source": [
    "seqd.display_edge_info('4851','54567')"
>>>>>>> inital AOS notebook
=======
    }
   ],
   "source": [
    "try:\n",
    "    seqd.display_edge_info('4851','54567')\n",
    "except:\n",
    "    print(\"Edge not found\")"
>>>>>>> more documentation, clean up
   ]
  },
  {
   "cell_type": "code",
<<<<<<< 264b4cc82c31fa1a0ccd54d301ccd2319045c9b4
<<<<<<< e1cd5e577332ee62f9e7990c77cb1f09b3575962
   "execution_count": 43,
=======
   "execution_count": 24,
>>>>>>> inital AOS notebook
=======
   "execution_count": 43,
>>>>>>> more documentation, clean up
   "metadata": {
    "scrolled": false
   },
   "outputs": [
    {
<<<<<<< 264b4cc82c31fa1a0ccd54d301ccd2319045c9b4
<<<<<<< e1cd5e577332ee62f9e7990c77cb1f09b3575962
=======
>>>>>>> more documentation, clean up
     "name": "stdout",
     "output_type": "stream",
     "text": [
      "Edge not found\n"
<<<<<<< 264b4cc82c31fa1a0ccd54d301ccd2319045c9b4
=======
     "ename": "Exception",
     "evalue": "3791 is not in the graph",
     "output_type": "error",
     "traceback": [
      "\u001b[0;31m---------------------------------------------------------------------------\u001b[0m",
      "\u001b[0;31mException\u001b[0m                                 Traceback (most recent call last)",
      "\u001b[0;32m<ipython-input-24-efa0e6706782>\u001b[0m in \u001b[0;36m<module>\u001b[0;34m\u001b[0m\n\u001b[0;32m----> 1\u001b[0;31m \u001b[0mseqd\u001b[0m\u001b[0;34m.\u001b[0m\u001b[0mdisplay_edge_info\u001b[0m\u001b[0;34m(\u001b[0m\u001b[0;34m'4851'\u001b[0m\u001b[0;34m,\u001b[0m\u001b[0;34m'3791'\u001b[0m\u001b[0;34m)\u001b[0m\u001b[0;34m\u001b[0m\u001b[0;34m\u001b[0m\u001b[0m\n\u001b[0m",
      "\u001b[0;32m~/env/bte_schema/lib/python3.6/site-packages/biothings_explorer/user_query_dispatcher.py\u001b[0m in \u001b[0;36mdisplay_edge_info\u001b[0;34m(self, start_node, end_node)\u001b[0m\n\u001b[1;32m    218\u001b[0m             \u001b[0;32mraise\u001b[0m \u001b[0mException\u001b[0m\u001b[0;34m(\u001b[0m\u001b[0;34m\"{} is not in the graph\"\u001b[0m\u001b[0;34m.\u001b[0m\u001b[0mformat\u001b[0m\u001b[0;34m(\u001b[0m\u001b[0mstart_node\u001b[0m\u001b[0;34m)\u001b[0m\u001b[0;34m)\u001b[0m\u001b[0;34m\u001b[0m\u001b[0;34m\u001b[0m\u001b[0m\n\u001b[1;32m    219\u001b[0m         \u001b[0;32mif\u001b[0m \u001b[0mend_node\u001b[0m \u001b[0;32mnot\u001b[0m \u001b[0;32min\u001b[0m \u001b[0mself\u001b[0m\u001b[0;34m.\u001b[0m\u001b[0mG\u001b[0m\u001b[0;34m:\u001b[0m\u001b[0;34m\u001b[0m\u001b[0;34m\u001b[0m\u001b[0m\n\u001b[0;32m--> 220\u001b[0;31m             \u001b[0;32mraise\u001b[0m \u001b[0mException\u001b[0m\u001b[0;34m(\u001b[0m\u001b[0;34m\"{} is not in the graph\"\u001b[0m\u001b[0;34m.\u001b[0m\u001b[0mformat\u001b[0m\u001b[0;34m(\u001b[0m\u001b[0mend_node\u001b[0m\u001b[0;34m)\u001b[0m\u001b[0;34m)\u001b[0m\u001b[0;34m\u001b[0m\u001b[0;34m\u001b[0m\u001b[0m\n\u001b[0m\u001b[1;32m    221\u001b[0m         \u001b[0;32mif\u001b[0m \u001b[0;32mnot\u001b[0m \u001b[0mself\u001b[0m\u001b[0;34m.\u001b[0m\u001b[0mG\u001b[0m\u001b[0;34m.\u001b[0m\u001b[0mhas_edge\u001b[0m\u001b[0;34m(\u001b[0m\u001b[0mstart_node\u001b[0m\u001b[0;34m,\u001b[0m \u001b[0mend_node\u001b[0m\u001b[0;34m)\u001b[0m\u001b[0;34m:\u001b[0m\u001b[0;34m\u001b[0m\u001b[0;34m\u001b[0m\u001b[0m\n\u001b[1;32m    222\u001b[0m             \u001b[0;32mraise\u001b[0m \u001b[0mException\u001b[0m\u001b[0;34m(\u001b[0m\u001b[0;34m\"No edge exists between {} and {}\"\u001b[0m\u001b[0;34m.\u001b[0m\u001b[0mformat\u001b[0m\u001b[0;34m(\u001b[0m\u001b[0mstart_node\u001b[0m\u001b[0;34m,\u001b[0m \u001b[0mend_node\u001b[0m\u001b[0;34m)\u001b[0m\u001b[0;34m)\u001b[0m\u001b[0;34m\u001b[0m\u001b[0;34m\u001b[0m\u001b[0m\n",
      "\u001b[0;31mException\u001b[0m: 3791 is not in the graph"
>>>>>>> inital AOS notebook
=======
>>>>>>> more documentation, clean up
     ]
    }
   ],
   "source": [
<<<<<<< 264b4cc82c31fa1a0ccd54d301ccd2319045c9b4
<<<<<<< e1cd5e577332ee62f9e7990c77cb1f09b3575962
=======
>>>>>>> more documentation, clean up
    "try:\n",
    "    seqd.display_edge_info('4851','3791')\n",
    "except:\n",
    "    print(\"Edge not found\")"
<<<<<<< 264b4cc82c31fa1a0ccd54d301ccd2319045c9b4
=======
    "seqd.display_edge_info('4851','3791')"
>>>>>>> inital AOS notebook
=======
>>>>>>> more documentation, clean up
   ]
  },
  {
   "cell_type": "code",
<<<<<<< 264b4cc82c31fa1a0ccd54d301ccd2319045c9b4
<<<<<<< e1cd5e577332ee62f9e7990c77cb1f09b3575962
   "execution_count": 44,
=======
   "execution_count": 25,
>>>>>>> inital AOS notebook
=======
   "execution_count": 44,
>>>>>>> more documentation, clean up
   "metadata": {
    "scrolled": true
   },
   "outputs": [
    {
<<<<<<< 264b4cc82c31fa1a0ccd54d301ccd2319045c9b4
<<<<<<< e1cd5e577332ee62f9e7990c77cb1f09b3575962
=======
>>>>>>> more documentation, clean up
     "name": "stdout",
     "output_type": "stream",
     "text": [
      "Edge not found\n"
<<<<<<< 264b4cc82c31fa1a0ccd54d301ccd2319045c9b4
=======
     "ename": "Exception",
     "evalue": "7204 is not in the graph",
     "output_type": "error",
     "traceback": [
      "\u001b[0;31m---------------------------------------------------------------------------\u001b[0m",
      "\u001b[0;31mException\u001b[0m                                 Traceback (most recent call last)",
      "\u001b[0;32m<ipython-input-25-51dea968b22b>\u001b[0m in \u001b[0;36m<module>\u001b[0;34m\u001b[0m\n\u001b[0;32m----> 1\u001b[0;31m \u001b[0mseqd\u001b[0m\u001b[0;34m.\u001b[0m\u001b[0mdisplay_edge_info\u001b[0m\u001b[0;34m(\u001b[0m\u001b[0;34m'4851'\u001b[0m\u001b[0;34m,\u001b[0m\u001b[0;34m'7204'\u001b[0m\u001b[0;34m)\u001b[0m\u001b[0;34m\u001b[0m\u001b[0;34m\u001b[0m\u001b[0m\n\u001b[0m",
      "\u001b[0;32m~/env/bte_schema/lib/python3.6/site-packages/biothings_explorer/user_query_dispatcher.py\u001b[0m in \u001b[0;36mdisplay_edge_info\u001b[0;34m(self, start_node, end_node)\u001b[0m\n\u001b[1;32m    218\u001b[0m             \u001b[0;32mraise\u001b[0m \u001b[0mException\u001b[0m\u001b[0;34m(\u001b[0m\u001b[0;34m\"{} is not in the graph\"\u001b[0m\u001b[0;34m.\u001b[0m\u001b[0mformat\u001b[0m\u001b[0;34m(\u001b[0m\u001b[0mstart_node\u001b[0m\u001b[0;34m)\u001b[0m\u001b[0;34m)\u001b[0m\u001b[0;34m\u001b[0m\u001b[0;34m\u001b[0m\u001b[0m\n\u001b[1;32m    219\u001b[0m         \u001b[0;32mif\u001b[0m \u001b[0mend_node\u001b[0m \u001b[0;32mnot\u001b[0m \u001b[0;32min\u001b[0m \u001b[0mself\u001b[0m\u001b[0;34m.\u001b[0m\u001b[0mG\u001b[0m\u001b[0;34m:\u001b[0m\u001b[0;34m\u001b[0m\u001b[0;34m\u001b[0m\u001b[0m\n\u001b[0;32m--> 220\u001b[0;31m             \u001b[0;32mraise\u001b[0m \u001b[0mException\u001b[0m\u001b[0;34m(\u001b[0m\u001b[0;34m\"{} is not in the graph\"\u001b[0m\u001b[0;34m.\u001b[0m\u001b[0mformat\u001b[0m\u001b[0;34m(\u001b[0m\u001b[0mend_node\u001b[0m\u001b[0;34m)\u001b[0m\u001b[0;34m)\u001b[0m\u001b[0;34m\u001b[0m\u001b[0;34m\u001b[0m\u001b[0m\n\u001b[0m\u001b[1;32m    221\u001b[0m         \u001b[0;32mif\u001b[0m \u001b[0;32mnot\u001b[0m \u001b[0mself\u001b[0m\u001b[0;34m.\u001b[0m\u001b[0mG\u001b[0m\u001b[0;34m.\u001b[0m\u001b[0mhas_edge\u001b[0m\u001b[0;34m(\u001b[0m\u001b[0mstart_node\u001b[0m\u001b[0;34m,\u001b[0m \u001b[0mend_node\u001b[0m\u001b[0;34m)\u001b[0m\u001b[0;34m:\u001b[0m\u001b[0;34m\u001b[0m\u001b[0;34m\u001b[0m\u001b[0m\n\u001b[1;32m    222\u001b[0m             \u001b[0;32mraise\u001b[0m \u001b[0mException\u001b[0m\u001b[0;34m(\u001b[0m\u001b[0;34m\"No edge exists between {} and {}\"\u001b[0m\u001b[0;34m.\u001b[0m\u001b[0mformat\u001b[0m\u001b[0;34m(\u001b[0m\u001b[0mstart_node\u001b[0m\u001b[0;34m,\u001b[0m \u001b[0mend_node\u001b[0m\u001b[0;34m)\u001b[0m\u001b[0;34m)\u001b[0m\u001b[0;34m\u001b[0m\u001b[0;34m\u001b[0m\u001b[0m\n",
      "\u001b[0;31mException\u001b[0m: 7204 is not in the graph"
>>>>>>> inital AOS notebook
=======
>>>>>>> more documentation, clean up
     ]
    }
   ],
   "source": [
<<<<<<< 264b4cc82c31fa1a0ccd54d301ccd2319045c9b4
<<<<<<< e1cd5e577332ee62f9e7990c77cb1f09b3575962
=======
>>>>>>> more documentation, clean up
    "try:\n",
    "    seqd.display_edge_info('4851','7204')\n",
    "except:\n",
    "    print(\"Edge not found\")"
<<<<<<< 264b4cc82c31fa1a0ccd54d301ccd2319045c9b4
=======
    "seqd.display_edge_info('4851','7204')"
>>>>>>> inital AOS notebook
=======
>>>>>>> more documentation, clean up
   ]
  },
  {
   "cell_type": "code",
<<<<<<< 264b4cc82c31fa1a0ccd54d301ccd2319045c9b4
<<<<<<< e1cd5e577332ee62f9e7990c77cb1f09b3575962
   "execution_count": 45,
=======
   "execution_count": 26,
>>>>>>> inital AOS notebook
=======
   "execution_count": 45,
>>>>>>> more documentation, clean up
   "metadata": {
    "scrolled": true
   },
   "outputs": [
    {
<<<<<<< 264b4cc82c31fa1a0ccd54d301ccd2319045c9b4
<<<<<<< e1cd5e577332ee62f9e7990c77cb1f09b3575962
=======
>>>>>>> more documentation, clean up
     "name": "stdout",
     "output_type": "stream",
     "text": [
      "Edge not found\n"
     ]
<<<<<<< 264b4cc82c31fa1a0ccd54d301ccd2319045c9b4
    }
   ],
   "source": [
    "try:\n",
    "    seqd.display_edge_info('4851','351')\n",
    "except:\n",
    "    print(\"Edge not found\")"
=======
     "data": {
      "text/plain": [
       "{0: {'info': {'bts:hgnc': ['620'],\n",
       "   'bts:taxid': ['NCBITaxon:9606'],\n",
       "   'bts:source': ['https://data.monarchinitiative.org/ttl/biogrid.ttl',\n",
       "    'https://data.monarchinitiative.org/ttl/string.ttl'],\n",
       "   '@type': 'Gene',\n",
       "   '$input': 'bts:entrez',\n",
       "   '$source': 'biolink'},\n",
       "  'label': 'bts:molecularlyInteractsWith',\n",
       "  'source': 'biolink'},\n",
       " 1: {'info': {'bts:umls': ['C1364818'],\n",
       "   'bts:pubmed': ['16126912', '28562688'],\n",
       "   '@type': 'Gene',\n",
       "   '$input': 'bts:umls',\n",
       "   '$source': 'semmed'},\n",
       "  'label': 'bts:molecularlyInteractsWith',\n",
       "  'source': 'semmed'}}"
      ]
     },
     "execution_count": 26,
     "metadata": {},
     "output_type": "execute_result"
    }
   ],
   "source": [
    "seqd.display_edge_info('4851','351')"
>>>>>>> inital AOS notebook
=======
    }
   ],
   "source": [
    "try:\n",
    "    seqd.display_edge_info('4851','351')\n",
    "except:\n",
    "    print(\"Edge not found\")"
>>>>>>> more documentation, clean up
   ]
  },
  {
   "cell_type": "markdown",
   "metadata": {},
   "source": [
    "## Test two final gene-gene edges involving CDC42\n",
    "* ARHGAP31 - CDC42\n",
    "* CDC42 - DOCK6"
   ]
  },
  {
   "cell_type": "code",
<<<<<<< 264b4cc82c31fa1a0ccd54d301ccd2319045c9b4
<<<<<<< e1cd5e577332ee62f9e7990c77cb1f09b3575962
   "execution_count": 47,
=======
   "execution_count": 27,
>>>>>>> inital AOS notebook
=======
   "execution_count": 47,
>>>>>>> more documentation, clean up
   "metadata": {},
   "outputs": [
    {
     "data": {
      "text/plain": [
       "[{'entrez': '998',\n",
       "  'name': 'cell division cycle 42',\n",
       "  'symbol': 'CDC42',\n",
       "  'taxonomy': 9606,\n",
       "  'umls': 'C1366537',\n",
       "  'display': 'entrez(998) name(cell division cycle 42) symbol(CDC42) taxonomy(9606) umls(C1366537) ',\n",
       "  'type': 'Gene',\n",
       "  'primary': {'identifier': 'entrez', 'cls': 'Gene', 'value': '998'}},\n",
       " {'entrez': '12540',\n",
       "  'name': 'cell division cycle 42',\n",
       "  'symbol': 'Cdc42',\n",
       "  'taxonomy': 10090,\n",
       "  'display': 'entrez(12540) name(cell division cycle 42) symbol(Cdc42) taxonomy(10090) ',\n",
       "  'type': 'Gene',\n",
       "  'primary': {'identifier': 'entrez', 'cls': 'Gene', 'value': '12540'}},\n",
       " {'entrez': '64465',\n",
       "  'name': 'cell division cycle 42',\n",
       "  'symbol': 'Cdc42',\n",
       "  'taxonomy': 10116,\n",
       "  'display': 'entrez(64465) name(cell division cycle 42) symbol(Cdc42) taxonomy(10116) ',\n",
       "  'type': 'Gene',\n",
<<<<<<< 264b4cc82c31fa1a0ccd54d301ccd2319045c9b4
<<<<<<< e1cd5e577332ee62f9e7990c77cb1f09b3575962
       "  'primary': {'identifier': 'entrez', 'cls': 'Gene', 'value': '64465'}}]"
      ]
     },
     "execution_count": 47,
=======
       "  'primary': {'identifier': 'entrez', 'cls': 'Gene', 'value': '64465'}},\n",
       " {'entrez': '104264245',\n",
       "  'name': 'cell division cycle 42',\n",
       "  'symbol': 'CDC42',\n",
       "  'taxonomy': 37040,\n",
       "  'display': 'entrez(104264245) name(cell division cycle 42) symbol(CDC42) taxonomy(37040) ',\n",
       "  'type': 'Gene',\n",
       "  'primary': {'identifier': 'entrez', 'cls': 'Gene', 'value': '104264245'}},\n",
       " {'entrez': '104076721',\n",
       "  'name': 'cell division cycle 42',\n",
       "  'symbol': 'CDC42',\n",
       "  'taxonomy': 30455,\n",
       "  'display': 'entrez(104076721) name(cell division cycle 42) symbol(CDC42) taxonomy(30455) ',\n",
       "  'type': 'Gene',\n",
       "  'primary': {'identifier': 'entrez', 'cls': 'Gene', 'value': '104076721'}}]"
      ]
     },
     "execution_count": 27,
>>>>>>> inital AOS notebook
=======
       "  'primary': {'identifier': 'entrez', 'cls': 'Gene', 'value': '64465'}}]"
      ]
     },
     "execution_count": 47,
>>>>>>> more documentation, clean up
     "metadata": {},
     "output_type": "execute_result"
    }
   ],
   "source": [
    "# use the hint the module to let BioThings Explorer suggest the inputs for you\n",
    "a = ht.query('CDC42')\n",
    "# the output of the hint module is grouped by semantic types\n",
<<<<<<< 264b4cc82c31fa1a0ccd54d301ccd2319045c9b4
<<<<<<< e1cd5e577332ee62f9e7990c77cb1f09b3575962
    "a['Gene'][:3]"
=======
    "a['Gene']"
>>>>>>> inital AOS notebook
=======
    "a['Gene'][:3]"
>>>>>>> more documentation, clean up
   ]
  },
  {
   "cell_type": "code",
   "execution_count": 28,
   "metadata": {},
   "outputs": [
    {
     "data": {
      "text/plain": [
       "{'entrez': '998',\n",
       " 'name': 'cell division cycle 42',\n",
       " 'symbol': 'CDC42',\n",
       " 'taxonomy': 9606,\n",
       " 'umls': 'C1366537',\n",
       " 'display': 'entrez(998) name(cell division cycle 42) symbol(CDC42) taxonomy(9606) umls(C1366537) ',\n",
       " 'type': 'Gene',\n",
       " 'primary': {'identifier': 'entrez', 'cls': 'Gene', 'value': '998'}}"
      ]
     },
     "execution_count": 28,
     "metadata": {},
     "output_type": "execute_result"
    }
   ],
   "source": [
    "node_cdc42 = a['Gene'][0]\n",
    "node_cdc42"
   ]
  },
  {
   "cell_type": "code",
   "execution_count": 29,
   "metadata": {},
   "outputs": [],
   "source": [
    "seqd = SingleEdgeQueryDispatcher(input_obj=node_cdc42,\n",
    "                                 output_cls='Gene',\n",
    "                                 output_id='bts:entrez',\n",
    "                                 registry=reg)\n",
    "seqd.query()"
   ]
  },
  {
   "cell_type": "code",
<<<<<<< 264b4cc82c31fa1a0ccd54d301ccd2319045c9b4
<<<<<<< e1cd5e577332ee62f9e7990c77cb1f09b3575962
   "execution_count": 38,
=======
   "execution_count": 30,
>>>>>>> inital AOS notebook
=======
   "execution_count": 38,
>>>>>>> more documentation, clean up
   "metadata": {},
   "outputs": [
    {
     "data": {
      "text/plain": [
       "['998',\n",
       " '106211',\n",
       " '71043',\n",
       " 'ENSGALG00000004796',\n",
       " 'ZDB-GENE-060312-21',\n",
       " 'FBgn0010341',\n",
       " 'S000004219',\n",
       " 'SPAC110.03',\n",
       " '27289',\n",
<<<<<<< 264b4cc82c31fa1a0ccd54d301ccd2319045c9b4
<<<<<<< e1cd5e577332ee62f9e7990c77cb1f09b3575962
       " '171177']"
      ]
     },
     "execution_count": 38,
=======
       " '171177',\n",
       " '5881',\n",
       " '387',\n",
       " '23221',\n",
       " '388',\n",
       " '58480',\n",
       " '390',\n",
       " '57381',\n",
       " '54509',\n",
       " '5879',\n",
       " '5880',\n",
       " '29984',\n",
       " '9886',\n",
       " '23433',\n",
       " '389',\n",
       " '8153',\n",
       " 'C1705964',\n",
       " 'C0044602',\n",
       " 'C1707120',\n",
       " 'C0010656',\n",
       " 'C3715041',\n",
       " 'C0003768',\n",
       " 'C0010531',\n",
       " 'C0031678',\n",
       " 'C0031727',\n",
       " 'C1704992',\n",
       " 'C2987148',\n",
       " 'C3540573',\n",
       " 'C1705983',\n",
       " 'C0014442',\n",
       " 'C0017362',\n",
       " 'C0030956',\n",
       " 'C0089793',\n",
       " 'C0174045',\n",
       " 'C0242853',\n",
       " 'C0299856',\n",
       " 'C3272504',\n",
       " 'C0600388',\n",
       " 'C1704929',\n",
       " 'C0018296',\n",
       " 'C0031669',\n",
       " 'C0058836',\n",
       " 'C0058980',\n",
       " 'C0072402',\n",
       " 'C0080059',\n",
       " 'C0086376',\n",
       " 'C1565434',\n",
       " 'C1710331',\n",
       " 'C4049719',\n",
       " 'C3539723',\n",
       " 'C1705807',\n",
       " 'C0256371',\n",
       " 'C1706320',\n",
       " 'C3539645',\n",
       " 'C1705633',\n",
       " 'C3542906',\n",
       " 'C2699841',\n",
       " 'C1705766',\n",
       " 'C1706384',\n",
       " 'C1705950',\n",
       " 'C1708623',\n",
       " 'C1708630',\n",
       " 'C2825948',\n",
       " 'C2826011',\n",
       " 'C1706159',\n",
       " 'C2985443',\n",
       " 'C2986464',\n",
       " 'C1709130',\n",
       " 'C3813593',\n",
       " 'C1705556',\n",
       " 'C2985149',\n",
       " 'C3814146',\n",
       " 'C4084905',\n",
       " 'C1705632',\n",
       " 'C4085213',\n",
       " 'C3274857',\n",
       " 'C1705371',\n",
       " 'C3273837',\n",
       " 'C1704964',\n",
       " 'C3815274',\n",
       " 'C1705997',\n",
       " 'C1705526',\n",
       " 'C1710594',\n",
       " 'C1705841',\n",
       " 'C1707078',\n",
       " 'C2698598',\n",
       " 'C1705433',\n",
       " 'C0017337',\n",
       " 'C0085940',\n",
       " 'C0682970',\n",
       " 'C0919336',\n",
       " 'C1334043',\n",
       " 'C0021699',\n",
       " 'C0027803',\n",
       " 'C0033634',\n",
       " 'C0033640',\n",
       " 'C0059239',\n",
       " 'C0065344',\n",
       " 'C0068355',\n",
       " 'C0106893',\n",
       " 'C0120465',\n",
       " 'C0164786',\n",
       " 'C0169101',\n",
       " 'C0213574',\n",
       " 'C0218158',\n",
       " 'C0248813',\n",
       " 'C0250414',\n",
       " 'C0282625',\n",
       " 'C0285558',\n",
       " 'C0291573',\n",
       " 'C0294209',\n",
       " 'C0534507',\n",
       " 'C0540671',\n",
       " 'C0671550',\n",
       " 'C0751283',\n",
       " 'C0751984',\n",
       " 'C0753837',\n",
       " 'C0872053',\n",
       " 'C1456380',\n",
       " 'C1519061',\n",
       " 'C0059949',\n",
       " 'C0017837',\n",
       " 'C0027103',\n",
       " 'C0027120',\n",
       " 'C0031670',\n",
       " 'C0031671',\n",
       " 'C0040676',\n",
       " 'C0079972',\n",
       " 'C0082645',\n",
       " 'C0138965',\n",
       " 'C0139880',\n",
       " 'C0172537',\n",
       " 'C0174307',\n",
       " 'C0207694',\n",
       " 'C0288587',\n",
       " 'C0299809',\n",
       " 'C0385469',\n",
       " 'C0387583',\n",
       " 'C0389995',\n",
       " 'C0599286',\n",
       " 'C0623362',\n",
       " 'C0752312',\n",
       " 'C0872123',\n",
       " 'C0872265',\n",
       " 'C0908936',\n",
       " 'C0910167',\n",
       " 'C1120843',\n",
       " 'C1136240',\n",
       " 'C1171944',\n",
       " 'C1565860',\n",
       " 'C4084757',\n",
       " 'C1706223',\n",
       " 'C1708010',\n",
       " 'C1705013',\n",
       " 'C1705394',\n",
       " 'C1705982',\n",
       " 'C1708843',\n",
       " 'C3890397',\n",
       " 'C2986648',\n",
       " 'C1705333',\n",
       " 'C1706351',\n",
       " 'C0022457',\n",
       " 'C0599869',\n",
       " 'C1706149',\n",
       " 'C0082529',\n",
       " 'C0136073',\n",
       " 'C0167183',\n",
       " 'C0208355',\n",
       " 'C0534519',\n",
       " 'C1307407',\n",
       " 'C1335632',\n",
       " '324',\n",
       " '331',\n",
       " '57122',\n",
       " '79023',\n",
       " '51776',\n",
       " '3082',\n",
       " '51251',\n",
       " '375790',\n",
       " '197',\n",
       " '207',\n",
       " '1605',\n",
       " '1495',\n",
       " '1499',\n",
       " '1500',\n",
       " '7852',\n",
       " '81624',\n",
       " '151648',\n",
       " '60',\n",
       " '58',\n",
       " '71',\n",
       " '1729',\n",
       " '1738',\n",
       " '1630',\n",
       " '83478',\n",
       " '1794',\n",
       " '1778',\n",
       " '1756',\n",
       " '4036',\n",
       " '3984',\n",
       " '2773',\n",
       " '2775',\n",
       " '2782',\n",
       " '4171',\n",
       " '4208',\n",
       " '4204',\n",
       " '26999',\n",
       " '6655',\n",
       " '6654',\n",
       " '6647',\n",
       " '4214',\n",
       " '5604',\n",
       " '5602',\n",
       " '5594',\n",
       " '2664',\n",
       " '7867',\n",
       " '6775',\n",
       " '9950',\n",
       " '79784',\n",
       " '6696',\n",
       " '6714',\n",
       " '8924',\n",
       " '399',\n",
       " '9459',\n",
       " '396',\n",
       " '6809',\n",
       " '10273',\n",
       " '6232',\n",
       " '6249',\n",
       " '5048',\n",
       " '5063',\n",
       " '79902',\n",
       " '5108',\n",
       " '3690',\n",
       " '5295',\n",
       " '5293',\n",
       " '5290',\n",
       " '3798',\n",
       " '5296',\n",
       " '10188',\n",
       " '3728',\n",
       " '9632',\n",
       " '5216',\n",
       " '121512',\n",
       " '5147',\n",
       " '57572',\n",
       " '85440',\n",
       " '81704',\n",
       " '51082',\n",
       " '3932',\n",
       " '284217',\n",
       " '3908',\n",
       " '3913',\n",
       " '3911',\n",
       " '3912',\n",
       " '3909',\n",
       " '3910',\n",
       " '10144',\n",
       " '3918',\n",
       " '3914',\n",
       " '10319',\n",
       " '23345',\n",
       " '23370',\n",
       " '1123',\n",
       " '1063',\n",
       " '1062',\n",
       " '63916',\n",
       " '57514',\n",
       " '9411',\n",
       " '9901',\n",
       " '64837',\n",
       " '22836',\n",
       " '89941',\n",
       " '55288',\n",
       " '10435',\n",
       " '11135',\n",
       " '23002',\n",
       " '23452',\n",
       " '120892',\n",
       " '867',\n",
       " '4067',\n",
       " '9322',\n",
       " '7409',\n",
       " '100506965',\n",
       " '80321',\n",
       " '6993',\n",
       " '1268',\n",
       " '5058',\n",
       " '11021',\n",
       " '10278',\n",
       " '11190',\n",
       " '5657',\n",
       " '6319',\n",
       " '9338',\n",
       " '91010',\n",
       " '57459',\n",
       " '115703',\n",
       " '10383',\n",
       " '8661',\n",
       " '9314',\n",
       " '5547',\n",
       " '79585',\n",
       " '3991',\n",
       " '4633',\n",
       " '23580',\n",
       " '9138',\n",
       " '22823',\n",
       " '3791',\n",
       " '55909',\n",
       " '8826',\n",
       " '9628',\n",
       " '6010',\n",
       " '6843',\n",
       " '55695',\n",
       " '5422',\n",
       " '10458',\n",
       " '19',\n",
       " '2801',\n",
       " '3547',\n",
       " '4323',\n",
       " '4760',\n",
       " '23368',\n",
       " '144100',\n",
       " '7474',\n",
       " '5864',\n",
       " '9185',\n",
       " '54776',\n",
       " '154796',\n",
       " '57584',\n",
       " '55763',\n",
       " '10097',\n",
       " '10139',\n",
       " '1026',\n",
       " '10298',\n",
       " '10451',\n",
       " '10602',\n",
       " '10640',\n",
       " '1072',\n",
       " '11214',\n",
       " '114787',\n",
       " '1178',\n",
       " '1398',\n",
       " '167',\n",
       " '1739',\n",
       " '1956',\n",
       " '2151',\n",
       " '23092',\n",
       " '23348',\n",
       " '2353',\n",
       " '23771',\n",
       " '27342',\n",
       " '2822',\n",
       " '29092',\n",
       " '29109',\n",
       " '3439',\n",
       " '3708',\n",
       " '375',\n",
       " '4018',\n",
       " '4296',\n",
       " '473',\n",
       " '50619',\n",
       " '5062',\n",
       " '5313',\n",
       " '5337',\n",
       " '5364',\n",
       " '54858',\n",
       " '55114',\n",
       " '55619',\n",
       " '5578',\n",
       " '5586',\n",
       " '5590',\n",
       " '56731',\n",
       " '56776',\n",
       " '56990',\n",
       " '57154',\n",
       " '57379',\n",
       " '5747',\n",
       " '5906',\n",
       " '595',\n",
       " '60412',\n",
       " '64398',\n",
       " '644914',\n",
       " '649',\n",
       " '6550',\n",
       " '663',\n",
       " '6698',\n",
       " '6776',\n",
       " '6962',\n",
       " '7408',\n",
       " '7412',\n",
       " '7456',\n",
       " '79658',\n",
       " '80196',\n",
       " '820',\n",
       " '8428',\n",
       " '8506',\n",
       " '8685',\n",
       " '8874',\n",
       " '9075',\n",
       " '9167',\n",
       " '9181',\n",
       " '92170',\n",
       " '9542',\n",
       " '961',\n",
       " '9828',\n",
       " '7157',\n",
       " '4830',\n",
       " '4168',\n",
       " '7410',\n",
       " '5898',\n",
       " '5599',\n",
       " '406928',\n",
       " '406989',\n",
       " '10902',\n",
       " '4839',\n",
       " '6517',\n",
       " '7431',\n",
       " '10096',\n",
       " '10160',\n",
       " '11223',\n",
       " '200315',\n",
       " '2224',\n",
       " '2475',\n",
       " '2691',\n",
       " '3400',\n",
       " '3502',\n",
       " '4086',\n",
       " '5054',\n",
       " '5055',\n",
       " '50807',\n",
       " '5329',\n",
       " '5564',\n",
       " '6093',\n",
       " '6344',\n",
       " '677',\n",
       " '6774',\n",
       " '7074',\n",
       " '7422',\n",
       " '9464',\n",
       " '25932',\n",
       " '6850',\n",
       " '5327',\n",
       " '391']"
      ]
     },
     "execution_count": 30,
>>>>>>> inital AOS notebook
=======
       " '171177']"
      ]
     },
     "execution_count": 38,
>>>>>>> more documentation, clean up
     "metadata": {},
     "output_type": "execute_result"
    }
   ],
   "source": [
<<<<<<< 264b4cc82c31fa1a0ccd54d301ccd2319045c9b4
<<<<<<< e1cd5e577332ee62f9e7990c77cb1f09b3575962
    "seqd.show_all_nodes()[:10]"
=======
    "seqd.show_all_nodes()"
>>>>>>> inital AOS notebook
=======
    "seqd.show_all_nodes()[:10]"
>>>>>>> more documentation, clean up
   ]
  },
  {
   "cell_type": "code",
   "execution_count": 31,
   "metadata": {},
   "outputs": [
    {
     "data": {
      "text/plain": [
       "{0: {'info': {'bts:hgnc': ['29216'],\n",
       "   'bts:taxid': ['NCBITaxon:9606'],\n",
       "   'bts:source': ['https://data.monarchinitiative.org/ttl/string.ttl'],\n",
       "   '@type': 'Gene',\n",
       "   '$input': 'bts:entrez',\n",
       "   '$source': 'biolink'},\n",
       "  'label': 'bts:molecularlyInteractsWith',\n",
       "  'source': 'biolink'}}"
      ]
     },
     "execution_count": 31,
     "metadata": {},
     "output_type": "execute_result"
    }
   ],
   "source": [
    "seqd.display_edge_info('998','57514')"
   ]
  },
  {
   "cell_type": "code",
   "execution_count": 32,
<<<<<<< cb276f9e31b3b72c7e5c92b36d7154b6878ab9d4
<<<<<<< e1cd5e577332ee62f9e7990c77cb1f09b3575962
   "metadata": {
    "scrolled": true
   },
=======
   "metadata": {},
>>>>>>> inital AOS notebook
=======
   "metadata": {
    "scrolled": true
   },
>>>>>>> connect error
   "outputs": [
    {
     "data": {
      "text/plain": [
       "{0: {'info': {'bts:hgnc': ['19189'],\n",
       "   'bts:taxid': ['NCBITaxon:9606'],\n",
       "   'bts:source': ['https://data.monarchinitiative.org/ttl/string.ttl'],\n",
       "   '@type': 'Gene',\n",
       "   '$input': 'bts:entrez',\n",
       "   '$source': 'biolink'},\n",
       "  'label': 'bts:molecularlyInteractsWith',\n",
       "  'source': 'biolink'},\n",
       " 1: {'info': {'bts:umls': ['C1426077'],\n",
       "   'bts:pubmed': ['17196961'],\n",
       "   '@type': 'Gene',\n",
       "   '$input': 'bts:umls',\n",
       "   '$source': 'semmed'},\n",
       "  'label': 'bts:molecularlyInteractsWith',\n",
       "  'source': 'semmed'}}"
      ]
     },
     "execution_count": 32,
     "metadata": {},
     "output_type": "execute_result"
    }
   ],
   "source": [
    "seqd.display_edge_info('998','57572')"
   ]
<<<<<<< cb276f9e31b3b72c7e5c92b36d7154b6878ab9d4
<<<<<<< e1cd5e577332ee62f9e7990c77cb1f09b3575962
=======
>>>>>>> connect error
  },
  {
   "cell_type": "markdown",
   "metadata": {},
   "source": [
    "## Stretch goal: are there any links between ARHGAP31/CDC42/DOCK6 and NOTCH1-related genes?"
   ]
  },
  {
   "cell_type": "code",
   "execution_count": 3,
   "metadata": {},
   "outputs": [
    {
     "data": {
      "text/plain": [
       "[{'entrez': '998',\n",
       "  'name': 'cell division cycle 42',\n",
       "  'symbol': 'CDC42',\n",
       "  'taxonomy': 9606,\n",
       "  'umls': 'C1366537',\n",
       "  'display': 'entrez(998) name(cell division cycle 42) symbol(CDC42) taxonomy(9606) umls(C1366537) ',\n",
       "  'type': 'Gene',\n",
       "  'primary': {'identifier': 'entrez', 'cls': 'Gene', 'value': '998'}},\n",
       " {'entrez': '12540',\n",
       "  'name': 'cell division cycle 42',\n",
       "  'symbol': 'Cdc42',\n",
       "  'taxonomy': 10090,\n",
       "  'display': 'entrez(12540) name(cell division cycle 42) symbol(Cdc42) taxonomy(10090) ',\n",
       "  'type': 'Gene',\n",
       "  'primary': {'identifier': 'entrez', 'cls': 'Gene', 'value': '12540'}},\n",
       " {'entrez': '64465',\n",
       "  'name': 'cell division cycle 42',\n",
       "  'symbol': 'Cdc42',\n",
       "  'taxonomy': 10116,\n",
       "  'display': 'entrez(64465) name(cell division cycle 42) symbol(Cdc42) taxonomy(10116) ',\n",
       "  'type': 'Gene',\n",
       "  'primary': {'identifier': 'entrez', 'cls': 'Gene', 'value': '64465'}}]"
      ]
     },
     "execution_count": 3,
     "metadata": {},
     "output_type": "execute_result"
    }
   ],
   "source": [
    "# use the hint the module to let BioThings Explorer suggest the inputs for you\n",
    "a = ht.query('CDC42')\n",
    "# the output of the hint module is grouped by semantic types\n",
    "a['Gene'][:3]"
   ]
  },
  {
   "cell_type": "code",
   "execution_count": 4,
   "metadata": {},
   "outputs": [],
   "source": [
    "node_cdc42 = a['Gene'][0]"
   ]
  },
  {
   "cell_type": "code",
   "execution_count": 5,
   "metadata": {},
   "outputs": [
    {
     "data": {
      "text/plain": [
       "[{'entrez': '7204',\n",
       "  'name': 'trio Rho guanine nucleotide exchange factor',\n",
       "  'symbol': 'TRIO',\n",
       "  'taxonomy': 9606,\n",
       "  'umls': 'C1336674',\n",
       "  'display': 'entrez(7204) name(trio Rho guanine nucleotide exchange factor) symbol(TRIO) taxonomy(9606) umls(C1336674) ',\n",
       "  'type': 'Gene',\n",
       "  'primary': {'identifier': 'entrez', 'cls': 'Gene', 'value': '7204'}},\n",
       " {'entrez': '223435',\n",
       "  'name': 'triple functional domain (PTPRF interacting)',\n",
       "  'symbol': 'Trio',\n",
       "  'taxonomy': 10090,\n",
       "  'display': 'entrez(223435) name(triple functional domain (PTPRF interacting)) symbol(Trio) taxonomy(10090) ',\n",
       "  'type': 'Gene',\n",
       "  'primary': {'identifier': 'entrez', 'cls': 'Gene', 'value': '223435'}},\n",
       " {'entrez': '310192',\n",
       "  'name': 'trio Rho guanine nucleotide exchange factor',\n",
       "  'symbol': 'Trio',\n",
       "  'taxonomy': 10116,\n",
       "  'display': 'entrez(310192) name(trio Rho guanine nucleotide exchange factor) symbol(Trio) taxonomy(10116) ',\n",
       "  'type': 'Gene',\n",
       "  'primary': {'identifier': 'entrez', 'cls': 'Gene', 'value': '310192'}}]"
      ]
     },
     "execution_count": 5,
     "metadata": {},
     "output_type": "execute_result"
    }
   ],
   "source": [
    "# use the hint the module to let BioThings Explorer suggest the inputs for you\n",
    "a = ht.query('TRIO')\n",
    "# the output of the hint module is grouped by semantic types\n",
    "a['Gene'][:3]"
   ]
  },
  {
   "cell_type": "code",
   "execution_count": 6,
   "metadata": {},
   "outputs": [],
   "source": [
    "node_trio = a['Gene'][0]"
   ]
  },
  {
   "cell_type": "code",
   "execution_count": 10,
   "metadata": {},
   "outputs": [
    {
     "name": "stdout",
     "output_type": "stream",
     "text": [
      "processing step 1 ...\n",
      "processing step 2 ...\n"
     ]
    },
    {
     "ename": "KeyError",
     "evalue": "'equivalent_ids'",
     "output_type": "error",
     "traceback": [
      "\u001b[0;31m---------------------------------------------------------------------------\u001b[0m",
      "\u001b[0;31mKeyError\u001b[0m                                  Traceback (most recent call last)",
      "\u001b[0;32m<ipython-input-10-30b187455d84>\u001b[0m in \u001b[0;36m<module>\u001b[0;34m\u001b[0m\n\u001b[1;32m      1\u001b[0m \u001b[0mcc\u001b[0m \u001b[0;34m=\u001b[0m \u001b[0mConnect\u001b[0m\u001b[0;34m(\u001b[0m\u001b[0minput_obj\u001b[0m\u001b[0;34m=\u001b[0m\u001b[0mnode_cdc42\u001b[0m\u001b[0;34m,\u001b[0m \u001b[0moutput_obj\u001b[0m\u001b[0;34m=\u001b[0m\u001b[0mnode_trio\u001b[0m\u001b[0;34m,\u001b[0m \u001b[0mregistry\u001b[0m\u001b[0;34m=\u001b[0m\u001b[0mreg\u001b[0m\u001b[0;34m)\u001b[0m\u001b[0;34m\u001b[0m\u001b[0;34m\u001b[0m\u001b[0m\n\u001b[0;32m----> 2\u001b[0;31m \u001b[0mcc\u001b[0m\u001b[0;34m.\u001b[0m\u001b[0mconnect\u001b[0m\u001b[0;34m(\u001b[0m\u001b[0;34m)\u001b[0m\u001b[0;34m\u001b[0m\u001b[0;34m\u001b[0m\u001b[0m\n\u001b[0m",
      "\u001b[0;32m~/env/bte_schema/lib/python3.6/site-packages/biothings_explorer/user_query_dispatcher.py\u001b[0m in \u001b[0;36mconnect\u001b[0;34m(self)\u001b[0m\n\u001b[1;32m    302\u001b[0m                     \u001b[0;32mfor\u001b[0m \u001b[0msemantic_type\u001b[0m\u001b[0;34m,\u001b[0m \u001b[0mids\u001b[0m \u001b[0;32min\u001b[0m \u001b[0moutput_ids\u001b[0m\u001b[0;34m.\u001b[0m\u001b[0mitems\u001b[0m\u001b[0;34m(\u001b[0m\u001b[0;34m)\u001b[0m\u001b[0;34m:\u001b[0m\u001b[0;34m\u001b[0m\u001b[0;34m\u001b[0m\u001b[0m\n\u001b[1;32m    303\u001b[0m                         \u001b[0mseqd\u001b[0m \u001b[0;34m=\u001b[0m \u001b[0mSingleEdgeQueryDispatcher\u001b[0m\u001b[0;34m(\u001b[0m\u001b[0mequivalent_ids\u001b[0m\u001b[0;34m=\u001b[0m\u001b[0mids\u001b[0m\u001b[0;34m,\u001b[0m \u001b[0minput_cls\u001b[0m\u001b[0;34m=\u001b[0m\u001b[0msemantic_type\u001b[0m\u001b[0;34m,\u001b[0m \u001b[0moutput_cls\u001b[0m\u001b[0;34m=\u001b[0m\u001b[0moutput_cls\u001b[0m\u001b[0;34m,\u001b[0m \u001b[0mpred\u001b[0m\u001b[0;34m=\u001b[0m\u001b[0;32mNone\u001b[0m\u001b[0;34m)\u001b[0m\u001b[0;34m\u001b[0m\u001b[0;34m\u001b[0m\u001b[0m\n\u001b[0;32m--> 304\u001b[0;31m                         \u001b[0mseqd\u001b[0m\u001b[0;34m.\u001b[0m\u001b[0mquery\u001b[0m\u001b[0;34m(\u001b[0m\u001b[0;34m)\u001b[0m\u001b[0;34m\u001b[0m\u001b[0;34m\u001b[0m\u001b[0m\n\u001b[0m\u001b[1;32m    305\u001b[0m                         \u001b[0mself\u001b[0m\u001b[0;34m.\u001b[0m\u001b[0mG\u001b[0m \u001b[0;34m=\u001b[0m \u001b[0mmerge_two_networkx_graphs\u001b[0m\u001b[0;34m(\u001b[0m\u001b[0mself\u001b[0m\u001b[0;34m.\u001b[0m\u001b[0mG\u001b[0m\u001b[0;34m,\u001b[0m \u001b[0mseqd\u001b[0m\u001b[0;34m.\u001b[0m\u001b[0mG\u001b[0m\u001b[0;34m)\u001b[0m\u001b[0;34m\u001b[0m\u001b[0;34m\u001b[0m\u001b[0m\n\u001b[1;32m    306\u001b[0m         \u001b[0mprint\u001b[0m\u001b[0;34m(\u001b[0m\u001b[0;34m\"query completed\"\u001b[0m\u001b[0;34m)\u001b[0m\u001b[0;34m\u001b[0m\u001b[0;34m\u001b[0m\u001b[0m\n",
      "\u001b[0;32m~/env/bte_schema/lib/python3.6/site-packages/biothings_explorer/user_query_dispatcher.py\u001b[0m in \u001b[0;36mquery\u001b[0;34m(self)\u001b[0m\n\u001b[1;32m    161\u001b[0m         \u001b[0;31m# print(\"time to generate equivalent ids for output {}\".format(t4-t3))\u001b[0m\u001b[0;34m\u001b[0m\u001b[0;34m\u001b[0m\u001b[0;34m\u001b[0m\u001b[0m\n\u001b[1;32m    162\u001b[0m         \u001b[0;31m# merge equivalent nodes\u001b[0m\u001b[0;34m\u001b[0m\u001b[0;34m\u001b[0m\u001b[0;34m\u001b[0m\u001b[0m\n\u001b[0;32m--> 163\u001b[0;31m         \u001b[0mself\u001b[0m\u001b[0;34m.\u001b[0m\u001b[0mmerge_equivalent_nodes\u001b[0m\u001b[0;34m(\u001b[0m\u001b[0;34m)\u001b[0m\u001b[0;34m\u001b[0m\u001b[0;34m\u001b[0m\u001b[0m\n\u001b[0m\u001b[1;32m    164\u001b[0m \u001b[0;34m\u001b[0m\u001b[0m\n\u001b[1;32m    165\u001b[0m     \u001b[0;32mdef\u001b[0m \u001b[0mto_json\u001b[0m\u001b[0;34m(\u001b[0m\u001b[0mself\u001b[0m\u001b[0;34m)\u001b[0m\u001b[0;34m:\u001b[0m\u001b[0;34m\u001b[0m\u001b[0;34m\u001b[0m\u001b[0m\n",
      "\u001b[0;32m~/env/bte_schema/lib/python3.6/site-packages/biothings_explorer/user_query_dispatcher.py\u001b[0m in \u001b[0;36mmerge_equivalent_nodes\u001b[0;34m(self)\u001b[0m\n\u001b[1;32m     88\u001b[0m                 \u001b[0midentifier\u001b[0m \u001b[0;34m=\u001b[0m \u001b[0mself\u001b[0m\u001b[0;34m.\u001b[0m\u001b[0mG\u001b[0m\u001b[0;34m.\u001b[0m\u001b[0mnodes\u001b[0m\u001b[0;34m[\u001b[0m\u001b[0mn2\u001b[0m\u001b[0;34m]\u001b[0m\u001b[0;34m[\u001b[0m\u001b[0;34m'identifier'\u001b[0m\u001b[0;34m]\u001b[0m\u001b[0;34m\u001b[0m\u001b[0;34m\u001b[0m\u001b[0m\n\u001b[1;32m     89\u001b[0m                 \u001b[0;32mif\u001b[0m \u001b[0mself\u001b[0m\u001b[0;34m.\u001b[0m\u001b[0moutput_id\u001b[0m \u001b[0;32mand\u001b[0m \u001b[0mself\u001b[0m\u001b[0;34m.\u001b[0m\u001b[0moutput_id\u001b[0m \u001b[0;34m!=\u001b[0m \u001b[0midentifier\u001b[0m\u001b[0;34m:\u001b[0m\u001b[0;34m\u001b[0m\u001b[0;34m\u001b[0m\u001b[0m\n\u001b[0;32m---> 90\u001b[0;31m                     \u001b[0mequivalent_ids\u001b[0m \u001b[0;34m=\u001b[0m \u001b[0mself\u001b[0m\u001b[0;34m.\u001b[0m\u001b[0mG\u001b[0m\u001b[0;34m.\u001b[0m\u001b[0mnodes\u001b[0m\u001b[0;34m[\u001b[0m\u001b[0mn2\u001b[0m\u001b[0;34m]\u001b[0m\u001b[0;34m[\u001b[0m\u001b[0;34m'equivalent_ids'\u001b[0m\u001b[0;34m]\u001b[0m\u001b[0;34m\u001b[0m\u001b[0;34m\u001b[0m\u001b[0m\n\u001b[0m\u001b[1;32m     91\u001b[0m                     \u001b[0mnew_vals\u001b[0m \u001b[0;34m=\u001b[0m \u001b[0mequivalent_ids\u001b[0m\u001b[0;34m.\u001b[0m\u001b[0mget\u001b[0m\u001b[0;34m(\u001b[0m\u001b[0mself\u001b[0m\u001b[0;34m.\u001b[0m\u001b[0moutput_id\u001b[0m\u001b[0;34m)\u001b[0m\u001b[0;34m\u001b[0m\u001b[0;34m\u001b[0m\u001b[0m\n\u001b[1;32m     92\u001b[0m                     \u001b[0;32mif\u001b[0m \u001b[0mnew_vals\u001b[0m\u001b[0;34m:\u001b[0m\u001b[0;34m\u001b[0m\u001b[0;34m\u001b[0m\u001b[0m\n",
      "\u001b[0;31mKeyError\u001b[0m: 'equivalent_ids'"
     ]
    }
   ],
   "source": [
    "cc = Connect(input_obj=node_cdc42, output_obj=node_trio, registry=reg)\n",
    "cc.connect()"
   ]
  },
  {
   "cell_type": "code",
   "execution_count": null,
   "metadata": {},
   "outputs": [],
   "source": [
    "cc.show_path()"
   ]
<<<<<<< cb276f9e31b3b72c7e5c92b36d7154b6878ab9d4
=======
>>>>>>> inital AOS notebook
=======
>>>>>>> connect error
  }
 ],
 "metadata": {
  "kernelspec": {
   "display_name": "Python 3",
   "language": "python",
   "name": "python3"
<<<<<<< cb276f9e31b3b72c7e5c92b36d7154b6878ab9d4
<<<<<<< e1cd5e577332ee62f9e7990c77cb1f09b3575962
=======
  },
  "language_info": {
   "codemirror_mode": {
    "name": "ipython",
    "version": 3
   },
   "file_extension": ".py",
   "mimetype": "text/x-python",
   "name": "python",
   "nbconvert_exporter": "python",
   "pygments_lexer": "ipython3",
   "version": "3.6.8"
>>>>>>> inital AOS notebook
=======
>>>>>>> connect error
  }
 },
 "nbformat": 4,
 "nbformat_minor": 2
}
