{
 "cells": [
  {
   "cell_type": "markdown",
   "metadata": {},
   "source": [
    "# MAVS graph\n",
    "## NCATS Hackathon 2019-09-15\n",
    "\n"
   ]
  },
  {
   "cell_type": "markdown",
   "metadata": {},
   "source": [
    "Trying to reproduce the edges in this graph and retrieve the predicates: \n",
    "\n",
    "<img src=\"img/MAVS.png\" width=\"1200\">\n",
    "\n",
    "**IMPORTANT**: Current BTE limitation is that any single query is limited to 100 results per query, so it may not entirely show all results from each source"
   ]
  },
  {
   "cell_type": "markdown",
   "metadata": {},
   "source": [
    "### Initiating the package"
   ]
  },
  {
   "cell_type": "code",
   "execution_count": 1,
   "metadata": {},
   "outputs": [],
   "source": [
    "# import the query module\n",
    "from biothings_explorer.user_query_dispatcher import SingleEdgeQueryDispatcher\n",
    "# import the hint module (suggest hits based on your input)\n",
    "from biothings_explorer.hint import Hint\n",
    "# import the registry module\n",
    "from biothings_explorer.registry import Registry\n",
    "reg = Registry()\n",
    "ht = Hint()\n",
    "# initialize the connect module\n",
    "from biothings_explorer.user_query_dispatcher import Connect"
   ]
  },
  {
   "cell_type": "markdown",
   "metadata": {},
   "source": [
    "## Find inflammasome node"
   ]
  },
  {
   "cell_type": "code",
   "execution_count": 2,
   "metadata": {},
   "outputs": [
    {
     "data": {
      "text/plain": [
       "[{'name': 'inflammasome complex',\n",
       "  'go': 'GO:0061702',\n",
       "  'display': 'name(inflammasome complex) go(GO:0061702) ',\n",
       "  'type': 'CellularComponent',\n",
       "  'primary': {'identifier': 'go',\n",
       "   'cls': 'CellularComponent',\n",
       "   'value': 'GO:0061702'}},\n",
       " {'name': 'NLRP3 inflammasome complex',\n",
       "  'go': 'GO:0072559',\n",
       "  'display': 'name(NLRP3 inflammasome complex) go(GO:0072559) ',\n",
       "  'type': 'CellularComponent',\n",
       "  'primary': {'identifier': 'go',\n",
       "   'cls': 'CellularComponent',\n",
       "   'value': 'GO:0072559'}},\n",
       " {'name': 'NLRP1 inflammasome complex',\n",
       "  'go': 'GO:0072558',\n",
       "  'display': 'name(NLRP1 inflammasome complex) go(GO:0072558) ',\n",
       "  'type': 'CellularComponent',\n",
       "  'primary': {'identifier': 'go',\n",
       "   'cls': 'CellularComponent',\n",
       "   'value': 'GO:0072558'}}]"
      ]
     },
     "execution_count": 2,
     "metadata": {},
     "output_type": "execute_result"
    }
   ],
   "source": [
    "# use the hint the module to let BioThings Explorer suggest the inputs for you\n",
    "a = ht.query('inflammasome')\n",
    "# the output of the hint module is grouped by semantic types\n",
    "a['CellularComponent'][:3]"
   ]
  },
  {
   "cell_type": "code",
   "execution_count": 3,
   "metadata": {},
   "outputs": [
    {
     "data": {
      "text/plain": [
       "{'name': 'inflammasome complex',\n",
       " 'go': 'GO:0061702',\n",
       " 'display': 'name(inflammasome complex) go(GO:0061702) ',\n",
       " 'type': 'CellularComponent',\n",
       " 'primary': {'identifier': 'go',\n",
       "  'cls': 'CellularComponent',\n",
       "  'value': 'GO:0061702'}}"
      ]
     },
     "execution_count": 3,
     "metadata": {},
     "output_type": "execute_result"
    }
   ],
   "source": [
    "node_inflammasome = a['CellularComponent'][0]\n",
    "node_inflammasome"
   ]
  },
  {
   "cell_type": "markdown",
   "metadata": {},
   "source": [
    "## What genes are directly connected to the inflammasome?"
   ]
  },
  {
   "cell_type": "code",
   "execution_count": 6,
   "metadata": {},
   "outputs": [
    {
     "data": {
      "text/plain": [
       "['GO:0061702', '338321', '22900', '837', '171389', '22861']"
      ]
     },
     "execution_count": 6,
     "metadata": {},
     "output_type": "execute_result"
    }
   ],
   "source": [
    "a = ht.query('inflammasome')\n",
    "node_inflammasome = a['CellularComponent'][0]\n",
    "seqd = SingleEdgeQueryDispatcher(input_obj=node_inflammasome,\n",
    "                                 output_cls='Gene',\n",
    "                                 output_id='bts:entrez',\n",
    "                                 registry=reg)\n",
    "seqd.query()\n",
    "seqd.show_all_nodes()"
   ]
  },
  {
   "cell_type": "code",
   "execution_count": 4,
   "metadata": {},
   "outputs": [],
   "source": [
    "seqd = SingleEdgeQueryDispatcher(input_obj=node_inflammasome,\n",
    "                                 output_cls='Gene',\n",
    "                                 output_id='bts:entrez',\n",
    "                                 registry=reg)\n",
    "seqd.query()"
   ]
  },
  {
   "cell_type": "code",
   "execution_count": 5,
   "metadata": {},
   "outputs": [
    {
     "data": {
      "text/plain": [
       "['GO:0061702', '338321', '22900', '837', '171389', '22861']"
      ]
     },
     "execution_count": 5,
     "metadata": {},
     "output_type": "execute_result"
    }
   ],
   "source": [
    "seqd.show_all_nodes()"
   ]
  },
  {
   "cell_type": "markdown",
   "metadata": {},
   "source": [
    "### No results -- switch to biothings client"
   ]
  },
  {
   "cell_type": "code",
   "execution_count": 21,
   "metadata": {},
   "outputs": [
    {
     "data": {
      "text/plain": [
       "14"
      ]
     },
     "execution_count": 21,
     "metadata": {},
     "output_type": "execute_result"
    }
   ],
   "source": [
    "from biothings_client import get_client\n",
    "mg = get_client(\"gene\")\n",
    "g = mg.query(\"GO:0061702 OR GO:0097169 OR GO:0072557 OR GO:0072558 OR GO:0072559\",size=1000,species=\"human\")\n",
    "len(g['hits'])"
   ]
  },
  {
   "cell_type": "markdown",
   "metadata": {},
   "source": [
    "## Look for relationships between all pairs of genes"
   ]
  },
  {
   "cell_type": "code",
   "execution_count": 7,
   "metadata": {},
   "outputs": [],
   "source": [
    "genes = ['4790',    #NFKB1\n",
    "         '3553',    #IL1-beta\n",
    "         '834',     #CASP1\n",
    "         '114548',  #NLRP3\n",
    "         '57506',   #MAVS\n",
    "         '29108',   #PYCARD\n",
    "         '23586',   #DDX58\n",
    "         '3661'     #IRF3\n",
    "        ]\n",
    "\n",
    "seqd = SingleEdgeQueryDispatcher(input_cls=\"Gene\",\n",
    "                                 input_id=\"bts:entrez\",\n",
    "                                 values=genes,\n",
    "                                 output_cls=\"Gene\",\n",
    "                                 output_id=\"bts:entrez\",\n",
    "                                 registry=reg)\n",
    "seqd.query()"
   ]
  },
  {
   "cell_type": "code",
   "execution_count": 8,
   "metadata": {},
   "outputs": [
    {
     "data": {
      "text/plain": [
       "897"
      ]
     },
     "execution_count": 8,
     "metadata": {},
     "output_type": "execute_result"
    }
   ],
   "source": [
    "len(seqd.show_all_nodes())"
   ]
  },
  {
   "cell_type": "code",
   "execution_count": 9,
   "metadata": {},
   "outputs": [
    {
     "data": {
      "text/plain": [
       "{0: {'info': {'@type': 'Gene',\n",
       "   'bts:umls': ['C1864770'],\n",
       "   '$source': 'semmedgene'},\n",
       "  'label': 'bts:molecularlyInteractsWith',\n",
       "  'source': 'semmedgene'}}"
      ]
     },
     "execution_count": 9,
     "metadata": {},
     "output_type": "execute_result"
    }
   ],
   "source": [
    "seqd.display_edge_info(\"3661\",\"57506\")"
   ]
  },
  {
   "cell_type": "code",
   "execution_count": 10,
   "metadata": {},
   "outputs": [
    {
     "data": {
      "text/plain": [
       "{0: {'info': {'@type': 'Gene',\n",
       "   'bts:umls': ['C1334139'],\n",
       "   '$source': 'semmedgene'},\n",
       "  'label': 'bts:molecularlyInteractsWith',\n",
       "  'source': 'semmedgene'}}"
      ]
     },
     "execution_count": 10,
     "metadata": {},
     "output_type": "execute_result"
    }
   ],
   "source": [
    "seqd.display_edge_info(\"57506\",\"3661\")"
   ]
  },
  {
   "cell_type": "code",
   "execution_count": 11,
   "metadata": {},
   "outputs": [
    {
     "name": "stdout",
     "output_type": "stream",
     "text": [
      "genes: 4790,3553\n",
      "genes: 4790,834\n",
      "genes: 4790,114548\n",
      "genes: 4790,57506\n",
      "genes: 4790,29108\n",
      "genes: 4790,23586\n",
      "{0: {'info': {'bts:hgnc': ['19102'], 'bts:taxid': ['NCBITaxon:9606'], 'bts:source': ['https://data.monarchinitiative.org/ttl/string.ttl'], '@type': 'Gene', '$input': 'bts:entrez', '$source': 'biolink'}, 'label': 'bts:molecularlyInteractsWith', 'source': 'biolink'}}\n",
      "genes: 4790,3661\n",
      "genes: 3553,4790\n",
      "{0: {'info': {'bts:hgnc': ['7794'], 'bts:taxid': ['NCBITaxon:9606'], 'bts:source': ['https://data.monarchinitiative.org/ttl/string.ttl'], '@type': 'Gene', '$input': 'bts:entrez', '$source': 'biolink'}, 'label': 'bts:molecularlyInteractsWith', 'source': 'biolink'}}\n",
      "genes: 3553,834\n",
      "genes: 3553,114548\n",
      "{0: {'info': {'bts:hgnc': ['16400'], 'bts:taxid': ['NCBITaxon:9606'], 'bts:source': ['https://data.monarchinitiative.org/ttl/string.ttl'], '@type': 'Gene', '$input': 'bts:entrez', '$source': 'biolink'}, 'label': 'bts:molecularlyInteractsWith', 'source': 'biolink'}}\n",
      "genes: 3553,57506\n",
      "genes: 3553,29108\n",
      "{0: {'info': {'bts:hgnc': ['16608'], 'bts:taxid': ['NCBITaxon:9606'], 'bts:source': ['https://data.monarchinitiative.org/ttl/string.ttl'], '@type': 'Gene', '$input': 'bts:entrez', '$source': 'biolink'}, 'label': 'bts:molecularlyInteractsWith', 'source': 'biolink'}}\n",
      "genes: 3553,23586\n",
      "genes: 3553,3661\n",
      "genes: 834,4790\n",
      "genes: 834,3553\n",
      "{0: {'info': {'bts:hgnc': ['5992'], 'bts:taxid': ['NCBITaxon:9606'], 'bts:source': ['https://data.monarchinitiative.org/ttl/biogrid.ttl', 'https://data.monarchinitiative.org/ttl/string.ttl'], '@type': 'Gene', '$input': 'bts:entrez', '$source': 'biolink'}, 'label': 'bts:molecularlyInteractsWith', 'source': 'biolink'}}\n",
      "genes: 834,114548\n",
      "genes: 834,57506\n",
      "genes: 834,29108\n",
      "genes: 834,23586\n",
      "genes: 834,3661\n",
      "genes: 114548,4790\n",
      "genes: 114548,3553\n",
      "genes: 114548,834\n",
      "genes: 114548,57506\n",
      "{0: {'info': {'bts:hgnc': ['29233'], 'bts:taxid': ['NCBITaxon:9606'], 'bts:source': ['https://data.monarchinitiative.org/ttl/string.ttl'], '@type': 'Gene', '$input': 'bts:entrez', '$source': 'biolink'}, 'label': 'bts:molecularlyInteractsWith', 'source': 'biolink'}}\n",
      "genes: 114548,29108\n",
      "genes: 114548,23586\n",
      "genes: 114548,3661\n",
      "genes: 57506,4790\n",
      "genes: 57506,3553\n",
      "genes: 57506,834\n",
      "genes: 57506,114548\n",
      "genes: 57506,29108\n",
      "genes: 57506,23586\n",
      "genes: 57506,3661\n",
      "{0: {'info': {'@type': 'Gene', 'bts:umls': ['C1334139'], '$source': 'semmedgene'}, 'label': 'bts:molecularlyInteractsWith', 'source': 'semmedgene'}}\n",
      "genes: 29108,4790\n",
      "genes: 29108,3553\n",
      "genes: 29108,834\n",
      "genes: 29108,114548\n",
      "genes: 29108,57506\n",
      "genes: 29108,23586\n",
      "genes: 29108,3661\n",
      "genes: 23586,4790\n",
      "genes: 23586,3553\n",
      "genes: 23586,834\n",
      "genes: 23586,114548\n",
      "genes: 23586,57506\n",
      "genes: 23586,29108\n",
      "genes: 23586,3661\n",
      "genes: 3661,4790\n",
      "genes: 3661,3553\n",
      "genes: 3661,834\n",
      "genes: 3661,114548\n",
      "genes: 3661,57506\n",
      "{0: {'info': {'@type': 'Gene', 'bts:umls': ['C1864770'], '$source': 'semmedgene'}, 'label': 'bts:molecularlyInteractsWith', 'source': 'semmedgene'}}\n",
      "genes: 3661,29108\n",
      "genes: 3661,23586\n"
     ]
    }
   ],
   "source": [
    "for gene1 in genes:\n",
    "    for gene2 in genes:\n",
    "        if gene1==gene2:\n",
    "            continue\n",
    "        else:\n",
    "            print(\"genes: \"+gene1+\",\"+gene2)\n",
    "            try:\n",
    "                print(seqd.display_edge_info(gene1,gene2))\n",
    "            except:\n",
    "                pass"
   ]
  },
  {
   "cell_type": "markdown",
   "metadata": {},
   "source": [
    "#### NOTE: there is currently a bug here in batch mode in which the predicate is not shown. Kevin is fixing...\n",
    "Therefore, try the one-by-one method below..."
   ]
  },
  {
   "cell_type": "markdown",
   "metadata": {},
   "source": [
    "## Check relationship between MAVS and other genes\n",
    "Trying this because of the above-mentioned bug...\n",
    "\n",
    "First, get gene neighbors to MAVS"
   ]
  },
  {
   "cell_type": "code",
   "execution_count": 24,
   "metadata": {},
   "outputs": [],
   "source": [
    "gene = \"57506\"\n",
    "seqd = SingleEdgeQueryDispatcher(input_cls=\"Gene\",\n",
    "                                input_id=\"bts:entrez\",\n",
    "                                values=gene,\n",
    "                                output_cls=\"Gene\",\n",
    "                                output_id=\"bts:entrez\",\n",
    "                                registry=reg)\n",
    "seqd.query()"
   ]
  },
  {
   "cell_type": "code",
   "execution_count": 25,
   "metadata": {},
   "outputs": [
    {
     "name": "stdout",
     "output_type": "stream",
     "text": [
      "A: MAVS -> 4790\n",
      "{0: {'info': {'bts:hgnc': ['7794'], 'bts:taxid': ['NCBITaxon:9606'], 'bts:source': ['https://data.monarchinitiative.org/ttl/string.ttl'], '@type': 'Gene', '$input': 'bts:entrez', '$source': 'biolink'}, 'label': 'bts:molecularlyInteractsWith', 'source': 'biolink'}}\n",
      "A: MAVS -> 3553\n",
      "A: MAVS -> 834\n",
      "A: MAVS -> 114548\n",
      "{0: {'info': {'bts:hgnc': ['16400'], 'bts:taxid': ['NCBITaxon:9606'], 'bts:source': ['https://data.monarchinitiative.org/ttl/string.ttl'], '@type': 'Gene', '$input': 'bts:entrez', '$source': 'biolink'}, 'label': 'bts:molecularlyInteractsWith', 'source': 'biolink'}}\n",
      "A: MAVS -> 57506\n",
      "A: MAVS -> 29108\n",
      "A: MAVS -> 23586\n",
      "{0: {'info': {'bts:hgnc': ['19102'], 'bts:taxid': ['NCBITaxon:9606'], 'bts:source': ['https://data.monarchinitiative.org/ttl/biogrid.ttl', 'https://data.monarchinitiative.org/ttl/string.ttl'], '@type': 'Gene', '$input': 'bts:entrez', '$source': 'biolink'}, 'label': 'bts:molecularlyInteractsWith', 'source': 'biolink'}}\n",
      "A: MAVS -> 3661\n",
      "{0: {'info': {'@type': 'Gene', 'bts:umls': ['C1334139'], '$source': 'semmedgene'}, 'label': 'bts:molecularlyInteractsWith', 'source': 'semmedgene'}}\n"
     ]
    }
   ],
   "source": [
    "for gene in genes:\n",
    "    print(\"A: MAVS -> \"+gene)\n",
    "    try:\n",
    "        print(seqd.display_edge_info(\"57506\",gene))\n",
    "    except:\n",
    "        pass"
   ]
  },
  {
   "cell_type": "markdown",
   "metadata": {},
   "source": [
    "Next, do the reverse query, i.e., iterate through all genes and look for MAVS"
   ]
  },
  {
   "cell_type": "code",
   "execution_count": 26,
   "metadata": {},
   "outputs": [
    {
     "name": "stdout",
     "output_type": "stream",
     "text": [
      "A: 4790 -> MAVS\n",
      "A: 3553 -> MAVS\n",
      "A: 834 -> MAVS\n",
      "A: 114548 -> MAVS\n",
      "{0: {'info': {'bts:hgnc': ['29233'], 'bts:taxid': ['NCBITaxon:9606'], 'bts:source': ['https://data.monarchinitiative.org/ttl/string.ttl'], '@type': 'Gene', '$input': 'bts:entrez', '$source': 'biolink'}, 'label': 'bts:molecularlyInteractsWith', 'source': 'biolink'}}\n",
      "A: 57506 -> MAVS\n",
      "A: 29108 -> MAVS\n",
      "A: 23586 -> MAVS\n",
      "{0: {'info': {'bts:hgnc': ['29233'], 'bts:taxid': ['NCBITaxon:9606'], 'bts:source': ['https://data.monarchinitiative.org/ttl/biogrid.ttl', 'https://data.monarchinitiative.org/ttl/string.ttl'], '@type': 'Gene', '$input': 'bts:entrez', '$source': 'biolink'}, 'label': 'bts:molecularlyInteractsWith', 'source': 'biolink'}}\n",
      "A: 3661 -> MAVS\n",
      "{0: {'info': {'bts:hgnc': ['29233'], 'bts:taxid': ['NCBITaxon:9606'], 'bts:source': ['https://data.monarchinitiative.org/ttl/biogrid.ttl', 'https://data.monarchinitiative.org/ttl/string.ttl'], '@type': 'Gene', '$input': 'bts:entrez', '$source': 'biolink'}, 'label': 'bts:molecularlyInteractsWith', 'source': 'biolink'}, 1: {'info': {'@type': 'Gene', 'bts:umls': ['C1864770'], '$source': 'semmedgene'}, 'label': 'bts:molecularlyInteractsWith', 'source': 'semmedgene'}}\n"
     ]
    }
   ],
   "source": [
    "for gene in genes:\n",
    "    seqd = SingleEdgeQueryDispatcher(input_cls=\"Gene\",\n",
    "                                     input_id=\"bts:entrez\",\n",
    "                                     values=gene,\n",
    "                                     output_cls=\"Gene\",\n",
    "                                     output_id=\"bts:entrez\",\n",
    "                                     registry=reg)\n",
    "    seqd.query()\n",
    "    print(\"A: \"+gene+\" -> MAVS\")\n",
    "    try:\n",
    "        print(seqd.display_edge_info(gene,\"57506\"))\n",
    "    except:\n",
    "        pass"
   ]
  },
  {
   "cell_type": "markdown",
   "metadata": {},
   "source": [
    "**Ask Kevin** what is the API call to get the biolink data, how I would have found that out (\"semmedgene\" is a key in the config.py file, but \"biolink\" is not), and should that be added directly to the results?"
   ]
  }
 ],
 "metadata": {
  "kernelspec": {
   "display_name": "Python 3",
   "language": "python",
   "name": "python3"
  },
  "language_info": {
   "codemirror_mode": {
    "name": "ipython",
    "version": 3
   },
   "file_extension": ".py",
   "mimetype": "text/x-python",
   "name": "python",
   "nbconvert_exporter": "python",
   "pygments_lexer": "ipython3",
   "version": "3.6.8"
  }
 },
 "nbformat": 4,
 "nbformat_minor": 2
}
