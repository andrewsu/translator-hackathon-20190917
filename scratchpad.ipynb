{
 "cells": [
  {
   "cell_type": "markdown",
   "metadata": {},
   "source": [
    "# This NB can be deleted at any point"
   ]
  },
  {
   "cell_type": "markdown",
   "metadata": {},
   "source": [
    "## NB to illustrate some confusing behavior of biothings explorer"
   ]
  },
  {
   "cell_type": "code",
   "execution_count": 1,
   "metadata": {},
   "outputs": [],
   "source": [
    "# import the query module\n",
    "from biothings_explorer.user_query_dispatcher import SingleEdgeQueryDispatcher\n",
    "# import the hint module (suggest hits based on your input)\n",
    "from biothings_explorer.hint import Hint\n",
    "# import the registry module\n",
    "from biothings_explorer.registry import Registry\n",
    "reg = Registry()\n",
    "ht = Hint()"
   ]
  },
  {
   "cell_type": "code",
   "execution_count": 2,
   "metadata": {},
   "outputs": [
    {
     "data": {
      "text/plain": [
       "{0: {'info': {'@type': 'Gene',\n",
       "   'bts:umls': ['C1864770'],\n",
       "   '$source': 'semmedgene'},\n",
       "  'label': 'bts:molecularlyInteractsWith',\n",
       "  'source': 'semmedgene'}}"
      ]
     },
     "execution_count": 2,
     "metadata": {},
     "output_type": "execute_result"
    }
   ],
   "source": [
    "genes = ['4790',    #NFKB1\n",
    "         '3553',    #IL1-beta\n",
    "         '834',     #CASP1\n",
    "         '114548',  #NLRP3\n",
    "         '57506',   #MAVS\n",
    "         '29108',   #PYCARD\n",
    "         '23586',   #DDX58\n",
    "         '3661'     #IRF3\n",
    "        ]\n",
    "seqd = SingleEdgeQueryDispatcher(input_cls=\"Gene\",\n",
    "                                 input_id=\"bts:entrez\",\n",
    "                                 values=genes,\n",
    "                                 output_cls=\"Gene\",\n",
    "                                 output_id=\"bts:entrez\",\n",
    "                                 registry=reg)\n",
    "seqd.query()\n",
    "seqd.display_edge_info(\"3661\",\"57506\")\n"
   ]
  },
  {
   "cell_type": "code",
   "execution_count": 18,
   "metadata": {},
   "outputs": [
    {
     "data": {
      "text/plain": [
       "{'ChemicalSubstance': {'chembl:CHEMBL513221': {'bts:inchi': ['InChI=1S/C12H9Cl2NO3/c1-3-12(2)10(16)15(11(17)18-12)9-5-7(13)4-8(14)6-9/h3-6H,1H2,2H3'],\n",
       "   'bts:inchikey': ['FSCWZHGZWWDELK-UHFFFAOYSA-N'],\n",
       "   'bts:rxcui': [],\n",
       "   'bts:smiles': ['CC1(OC(=O)N(C1=O)c2cc(Cl)cc(Cl)c2)C=C'],\n",
       "   'bts:pubchem': [39676],\n",
       "   'bts:chembl': ['CHEMBL513221'],\n",
       "   'bts:drugbank': [],\n",
       "   'bts:unii': [],\n",
       "   'bts:mesh': ['C025643']},\n",
       "  'chembl:CHEMBL590': {'bts:inchi': ['InChI=1S/C11H8O2/c1-7-6-10(12)8-4-2-3-5-9(8)11(7)13/h2-6H,1H3'],\n",
       "   'bts:inchikey': ['MJVAVZPDRWSRRC-UHFFFAOYSA-N'],\n",
       "   'bts:rxcui': [],\n",
       "   'bts:smiles': ['CC1=CC(=O)c2ccccc2C1=O'],\n",
       "   'bts:pubchem': [4055],\n",
       "   'bts:chembl': ['CHEMBL590'],\n",
       "   'bts:drugbank': ['DB00170'],\n",
       "   'bts:unii': ['723JX6CXY5'],\n",
       "   'bts:mesh': ['D024483']},\n",
       "  'chembl:CHEMBL98': {'bts:inchi': ['InChI=1S/C14H20N2O3/c17-13(15-12-8-4-3-5-9-12)10-6-1-2-7-11-14(18)16-19/h3-5,8-9,19H,1-2,6-7,10-11H2,(H,15,17)(H,16,18)'],\n",
       "   'bts:inchikey': ['WAEXFXRVDQXREF-UHFFFAOYSA-N'],\n",
       "   'bts:rxcui': ['194337'],\n",
       "   'bts:smiles': ['ONC(=O)CCCCCCC(=O)Nc1ccccc1'],\n",
       "   'bts:pubchem': [5311],\n",
       "   'bts:chembl': ['CHEMBL98'],\n",
       "   'bts:drugbank': ['DB02546'],\n",
       "   'bts:unii': ['58IFB293JI'],\n",
       "   'bts:mesh': ['C111237']}}}"
      ]
     },
     "execution_count": 18,
     "metadata": {},
     "output_type": "execute_result"
    }
   ],
   "source": [
    "seqd = SingleEdgeQueryDispatcher(input_cls=\"DiseaseOrPhenotypicFeature\",\n",
    "                                 input_id=\"bts:mondo\",\n",
    "                                 values=\"MONDO:0000215\",\n",
    "                                 output_cls=\"ChemicalSubstance\",\n",
    "                                 output_id=\"bts:chembl\",\n",
    "                                 registry=reg)\n",
    "seqd.query()\n",
    "seqd.output_ids"
   ]
  },
  {
   "cell_type": "code",
   "execution_count": 19,
   "metadata": {},
   "outputs": [
    {
     "data": {
      "text/plain": [
       "['MONDO:0000215', 'CHEMBL513221', 'CHEMBL590', 'CHEMBL98']"
      ]
     },
     "execution_count": 19,
     "metadata": {},
     "output_type": "execute_result"
    }
   ],
   "source": [
    "seqd.show_all_nodes()"
   ]
  },
  {
   "cell_type": "code",
   "execution_count": 20,
   "metadata": {},
   "outputs": [
    {
     "data": {
      "text/plain": [
       "{'type': 'DiseaseOrPhenotypicFeature',\n",
       " 'identifier': 'bts:mondo',\n",
       " 'level': 1,\n",
       " 'equivalent_ids': {'bts:mondo': ['MONDO:0000215'],\n",
       "  'bts:doid': [],\n",
       "  'bts:bfo': [],\n",
       "  'bts:cohd': [],\n",
       "  'bts:hp': [],\n",
       "  'bts:kegg': [],\n",
       "  'bts:meddra': [],\n",
       "  'bts:medgen': [],\n",
       "  'bts:mesh': ['C565785'],\n",
       "  'bts:omim': [],\n",
       "  'bts:umls': []}}"
      ]
     },
     "execution_count": 20,
     "metadata": {},
     "output_type": "execute_result"
    }
   ],
   "source": [
    "seqd.display_node_info('MONDO:0000215')"
   ]
  },
  {
   "cell_type": "code",
   "execution_count": 23,
   "metadata": {},
   "outputs": [
    {
     "data": {
      "text/plain": [
       "{'identifier': 'bts:chembl',\n",
       " 'type': 'ChemicalSubstance',\n",
       " 'level': 2,\n",
       " 'equivalent_ids': {'bts:inchi': ['InChI=1S/C12H9Cl2NO3/c1-3-12(2)10(16)15(11(17)18-12)9-5-7(13)4-8(14)6-9/h3-6H,1H2,2H3'],\n",
       "  'bts:inchikey': ['FSCWZHGZWWDELK-UHFFFAOYSA-N'],\n",
       "  'bts:rxcui': [],\n",
       "  'bts:smiles': ['CC1(OC(=O)N(C1=O)c2cc(Cl)cc(Cl)c2)C=C'],\n",
       "  'bts:pubchem': [39676],\n",
       "  'bts:chembl': ['CHEMBL513221'],\n",
       "  'bts:drugbank': [],\n",
       "  'bts:unii': [],\n",
       "  'bts:mesh': ['C025643']}}"
      ]
     },
     "execution_count": 23,
     "metadata": {},
     "output_type": "execute_result"
    }
   ],
   "source": [
    "seqd.display_node_info('CHEMBL513221')"
   ]
  },
  {
   "cell_type": "markdown",
   "metadata": {},
   "source": [
    "# how much info is in chemical node?\n",
    " \n",
    "I wish the chemical name was in the node info"
   ]
  },
  {
   "cell_type": "code",
   "execution_count": 24,
   "metadata": {},
   "outputs": [
    {
     "data": {
      "text/plain": [
       "{'Gene': [],\n",
       " 'SequenceVariant': [],\n",
       " 'ChemicalSubstance': [{'chembl': 'CHEMBL513221',\n",
       "   'name': 'VINCLOZOLIN',\n",
       "   'pubchem': 39676,\n",
       "   'display': 'chembl(CHEMBL513221) name(VINCLOZOLIN) pubchem(39676) ',\n",
       "   'type': 'ChemicalSubstance',\n",
       "   'primary': {'identifier': 'chembl',\n",
       "    'cls': 'ChemicalSubstance',\n",
       "    'value': 'CHEMBL513221'}}],\n",
       " 'DiseaseOrPhenotypicFeature': [],\n",
       " 'Pathway': [],\n",
       " 'MolecularFunction': [],\n",
       " 'CellularComponent': [],\n",
       " 'BiologicalProcess': [],\n",
       " 'Anatomy': [],\n",
       " 'PhenotypicFeature': []}"
      ]
     },
     "execution_count": 24,
     "metadata": {},
     "output_type": "execute_result"
    }
   ],
   "source": [
    "# use the hint the module to let BioThings Explorer suggest the inputs for you\n",
    "a = ht.query('CHEMBL513221')\n",
    "# thex output of the hint module is grouped by semantic types\n",
    "a"
   ]
  },
  {
   "cell_type": "code",
   "execution_count": 25,
   "metadata": {},
   "outputs": [
    {
     "data": {
      "text/plain": [
       "{'Gene': [],\n",
       " 'SequenceVariant': [],\n",
       " 'ChemicalSubstance': [{'chembl': 'CHEMBL513221',\n",
       "   'name': 'VINCLOZOLIN',\n",
       "   'pubchem': 39676,\n",
       "   'display': 'chembl(CHEMBL513221) name(VINCLOZOLIN) pubchem(39676) ',\n",
       "   'type': 'ChemicalSubstance',\n",
       "   'primary': {'identifier': 'chembl',\n",
       "    'cls': 'ChemicalSubstance',\n",
       "    'value': 'CHEMBL513221'}}],\n",
       " 'DiseaseOrPhenotypicFeature': [],\n",
       " 'Pathway': [],\n",
       " 'MolecularFunction': [],\n",
       " 'CellularComponent': [],\n",
       " 'BiologicalProcess': [],\n",
       " 'Anatomy': [],\n",
       " 'PhenotypicFeature': []}"
      ]
     },
     "execution_count": 25,
     "metadata": {},
     "output_type": "execute_result"
    }
   ],
   "source": [
    "ht.query('CHEMBL513221')"
   ]
  },
  {
   "cell_type": "markdown",
   "metadata": {},
   "source": [
    "### refine monarch predicates?"
   ]
  },
  {
   "cell_type": "code",
   "execution_count": 31,
   "metadata": {},
   "outputs": [
    {
     "data": {
      "text/plain": [
       "{0: {'info': {'bts:entrez': [2475],\n",
       "   '@type': 'Gene',\n",
       "   '$input': 'bts:umls',\n",
       "   '$source': 'disgenet'},\n",
       "  'label': 'bts:associatedWith',\n",
       "  'source': 'disgenet'},\n",
       " 1: {'info': {'bts:hgnc': ['3942'],\n",
       "   'bts:source': ['https://data.monarchinitiative.org/ttl/omim.ttl',\n",
       "    'https://data.monarchinitiative.org/ttl/orphanet.ttl',\n",
       "    'https://data.monarchinitiative.org/ttl/clinvar.nt'],\n",
       "   'bts:publication': [{'id': 'PMID:25851998', 'label': None},\n",
       "    {'id': 'PMID:27159400', 'label': None},\n",
       "    {'id': 'PMID:27753196', 'label': None},\n",
       "    {'id': 'PMID:26542245', 'label': None}],\n",
       "   'bts:taxid': ['NCBITaxon:9606'],\n",
       "   '@type': 'Gene',\n",
       "   '$input': 'bts:mondo',\n",
       "   '$source': 'biolink'},\n",
       "  'label': 'bts:associatedWith',\n",
       "  'source': 'biolink'}}"
      ]
     },
     "execution_count": 31,
     "metadata": {},
     "output_type": "execute_result"
    }
   ],
   "source": [
    "seqd = SingleEdgeQueryDispatcher(input_cls=\"DiseaseOrPhenotypicFeature\",\n",
    "                                 input_id=\"bts:mondo\",\n",
    "                                 values=\"MONDO:0014716\",\n",
    "                                 output_cls=\"Gene\",\n",
    "                                 output_id=\"bts:entrez\",\n",
    "                                 registry=reg)\n",
    "seqd.query()\n",
    "seqd.display_edge_info('MONDO:0014716', '2475')"
   ]
  },
  {
   "cell_type": "code",
   "execution_count": null,
   "metadata": {},
   "outputs": [],
   "source": []
  }
 ],
 "metadata": {
  "kernelspec": {
   "display_name": "Python 3",
   "language": "python",
   "name": "python3"
  },
  "language_info": {
   "codemirror_mode": {
    "name": "ipython",
    "version": 3
   },
   "file_extension": ".py",
   "mimetype": "text/x-python",
   "name": "python",
   "nbconvert_exporter": "python",
   "pygments_lexer": "ipython3",
   "version": "3.6.8"
  }
 },
 "nbformat": 4,
 "nbformat_minor": 2
}
